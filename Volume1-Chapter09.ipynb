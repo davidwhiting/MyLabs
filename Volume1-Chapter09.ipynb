{
 "cells": [
  {
   "cell_type": "markdown",
   "metadata": {},
   "source": [
    "# _Foundations of Applied Mathematics_ Labs: Volume 1"
   ]
  },
  {
   "cell_type": "code",
   "execution_count": 1,
   "metadata": {},
   "outputs": [],
   "source": [
    "%matplotlib inline"
   ]
  },
  {
   "cell_type": "markdown",
   "metadata": {},
   "source": [
    "# 9. Newton’s Method"
   ]
  },
  {
   "cell_type": "code",
   "execution_count": 42,
   "metadata": {},
   "outputs": [
    {
     "name": "stdout",
     "output_type": "stream",
     "text": [
      "10  5.0  2.5  1.25  0.625  0.3125  0.15625  0.078125  "
     ]
    }
   ],
   "source": [
    "F = lambda x: x / 2\n",
    "x0, tol, maxiters = 10, 1e-9, 8\n",
    "for k in range(maxiters):           # Iterate at most N times.\n",
    "    print(x0, end='  ')\n",
    "    x1 = F(x0)                      # Compute the next iteration.\n",
    "    if abs(x1 - x0) < tol:          # Check for convergence.\n",
    "        break                       # Upon convergence, stop iterating.\n",
    "    x0 = x1                         # Otherwise, continue iterating."
   ]
  },
  {
   "cell_type": "code",
   "execution_count": 44,
   "metadata": {},
   "outputs": [],
   "source": [
    "import numpy as np\n",
    "f = lambda x: np.sign(x) * np.power(np.abs(x), 1./3)\n",
    "\n",
    "x_real = np.linspace(-1.5, 1.5, 500)    # Real parts.\n",
    "x_imag = np.linspace(-1.5, 1.5, 500)    # Imaginary parts.\n",
    "X_real, X_imag = np.meshgrid(x_real, x_imag)\n",
    "X_0 = X_real + 1j*X_imag                # Combine real and imaginary parts."
   ]
  },
  {
   "cell_type": "code",
   "execution_count": 45,
   "metadata": {},
   "outputs": [],
   "source": [
    "f = lambda x: x**3 - 1\n",
    "Df = lambda x: 3*x**2\n",
    "X_1 = X_0 - f(X_0)/Df(X_0)"
   ]
  }
 ],
 "metadata": {
  "kernelspec": {
   "display_name": "Python 3",
   "language": "python",
   "name": "python3"
  },
  "language_info": {
   "codemirror_mode": {
    "name": "ipython",
    "version": 3
   },
   "file_extension": ".py",
   "mimetype": "text/x-python",
   "name": "python",
   "nbconvert_exporter": "python",
   "pygments_lexer": "ipython3",
   "version": "3.6.4"
  }
 },
 "nbformat": 4,
 "nbformat_minor": 2
}
