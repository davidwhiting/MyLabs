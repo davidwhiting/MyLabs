{
 "cells": [
  {
   "cell_type": "markdown",
   "metadata": {},
   "source": [
    "# _Foundations of Applied Mathematics_ Labs: Volume 1"
   ]
  },
  {
   "cell_type": "code",
   "execution_count": 1,
   "metadata": {},
   "outputs": [],
   "source": [
    "%matplotlib inline"
   ]
  },
  {
   "cell_type": "markdown",
   "metadata": {},
   "source": [
    "# 16. Iterative Solvers"
   ]
  },
  {
   "cell_type": "code",
   "execution_count": null,
   "metadata": {},
   "outputs": [],
   "source": [
    "import numpy as np\n",
    "\n",
    "D = np.array([[2,0],[0,16]])    # Let D be a diagonal matrix.\n",
    "d = np.diag(D)                  # Extract the diagonal as a 1-D array.\n",
    "x = np.random.random(2)\n",
    "np.allclose(D.dot(x), d*x)"
   ]
  },
  {
   "cell_type": "code",
   "execution_count": null,
   "metadata": {},
   "outputs": [],
   "source": [
    "% from scipy import linalg as la\n",
    "%\n",
    "% x = np.random.random(10)\n",
    "% la.norm(x, <<ord>>=np.inf)          # Use la.norm() for ||x||.\n",
    "% 0.74623726404168045\n",
    "% np.<<max>>(np.<<abs>>(x))               # The equivalent in NumPy for ||x||.\n",
    "% 0.74623726404168045\n",
    "% "
   ]
  },
  {
   "cell_type": "code",
   "execution_count": null,
   "metadata": {},
   "outputs": [],
   "source": [
    "def diag_dom(n, num_entries=None):\n",
    "    \"\"\"Generate a strictly diagonally dominant (n, n) matrix.\n",
    "    Parameters:\n",
    "        n (int): The dimension of the system.\n",
    "        num_entries (int): The number of nonzero values.\n",
    "            Defaults to n^(3/2)-n.\n",
    "    Returns:\n",
    "        A ((n,n) ndarray): A (n, n) strictly diagonally dominant matrix.\n",
    "    \"\"\"\n",
    "    if num_entries is None:\n",
    "        num_entries = int(n**1.5) - n\n",
    "    A = np.zeros((n,n))\n",
    "    rows = np.random.choice(np.arange(0,n), size=num_entries)\n",
    "    cols = np.random.choice(np.arange(0,n), size=num_entries)\n",
    "    data = np.random.randint(-4, 4, size=num_entries)\n",
    "    for i in range(num_entries):\n",
    "        A[rows[i], cols[i]] = data[i]\n",
    "    for i in range(n):\n",
    "        A[i,i] = np.<<sum>>(np.<<abs>>(A[i])) + 1\n",
    "    return A\n",
    "\n",
    "x0 = np.random.random(5)        # Generate a random vector.\n",
    "x1 = x0                         # Attempt to make a copy.\n",
    "x1[3] = 1000                    # Modify the \"copy\" in place.\n",
    "np.allclose(x0, x1)             # But x0 was also changed!"
   ]
  },
  {
   "cell_type": "code",
   "execution_count": null,
   "metadata": {},
   "outputs": [],
   "source": [
    "# Instead, make a copy of x0 when creating x1.\n",
    "x0 = np.copy(x1)                # Make a copy.\n",
    "x1[3] = -1000\n",
    "np.allclose(x0, x1)"
   ]
  },
  {
   "cell_type": "code",
   "execution_count": null,
   "metadata": {},
   "outputs": [],
   "source": [
    "# Get the indices of where the i-th row of A starts and ends if the\n",
    "# nonzero entries of A were flattened.\n",
    "rowstart = A.indptr[i]\n",
    "rowend = A.indptr[i+1]\n",
    "\n",
    "# Multiply only the nonzero elements of the i-th row of A with the\n",
    "# corresponding elements of x.\n",
    "Aix = A.data[rowstart:rowend] @ x[A.indices[rowstart:rowend]]"
   ]
  },
  {
   "cell_type": "code",
   "execution_count": null,
   "metadata": {},
   "outputs": [],
   "source": [
    "from scipy import sparse\n",
    "\n",
    "A = sparse.csr_matrix(diag_dom(50000))\n",
    "b = np.random.random(50000)"
   ]
  },
  {
   "cell_type": "code",
   "execution_count": null,
   "metadata": {},
   "outputs": [],
   "source": [
    "from matplotlib import pyplot as plt\n",
    "import numpy as np\n",
    "\n",
    "n = 100\n",
    "A,b = finite_difference(n)\n",
    "x = sparse_sor(A,b,1.9,maxiters=10000,tol=10**-2)\n",
    "U = x.reshape((n,n))\n",
    "x,y = np.linspace(0,10,n), np.linspace(0,10,n)\n",
    "X,Y = np.meshgrid(x,y)\n",
    "\n",
    "plt.pcolormesh(X,Y,U,cmap='coolwarm')\n",
    "plt.show()"
   ]
  },
  {
   "cell_type": "code",
   "execution_count": null,
   "metadata": {},
   "outputs": [],
   "source": [
    "from matplotlib import pyplot as plt\n",
    "\n",
    "def jacobi(n=100, tol=1e-8):\n",
    "\n",
    "    # Perform the algorithm, storing the result in the array 'U'.\n",
    "\n",
    "    # Visualize the results.\n",
    "    plt.imshow(U)\n",
    "    plt.show()"
   ]
  }
 ],
 "metadata": {
  "kernelspec": {
   "display_name": "Python 3",
   "language": "python",
   "name": "python3"
  },
  "language_info": {
   "codemirror_mode": {
    "name": "ipython",
    "version": 3
   },
   "file_extension": ".py",
   "mimetype": "text/x-python",
   "name": "python",
   "nbconvert_exporter": "python",
   "pygments_lexer": "ipython3",
   "version": "3.6.4"
  }
 },
 "nbformat": 4,
 "nbformat_minor": 2
}
