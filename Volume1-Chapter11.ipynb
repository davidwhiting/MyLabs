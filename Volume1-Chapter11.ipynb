{
 "cells": [
  {
   "cell_type": "markdown",
   "metadata": {},
   "source": [
    "# _Foundations of Applied Mathematics_ Labs: Volume 1"
   ]
  },
  {
   "cell_type": "code",
   "execution_count": 1,
   "metadata": {},
   "outputs": [],
   "source": [
    "%matplotlib inline"
   ]
  },
  {
   "cell_type": "markdown",
   "metadata": {},
   "source": [
    "# 11. Monte Carlo Integration"
   ]
  },
  {
   "cell_type": "code",
   "execution_count": 8,
   "metadata": {},
   "outputs": [
    {
     "data": {
      "text/plain": [
       "3.136"
      ]
     },
     "execution_count": 8,
     "metadata": {},
     "output_type": "execute_result"
    }
   ],
   "source": [
    "import numpy as np\n",
    "from scipy import linalg as la\n",
    "\n",
    "# Get 2000 random points in the 2-D domain [-1,1]x[-1,1].\n",
    "points = np.random.uniform(-1, 1, (2,2000))\n",
    "\n",
    "# Determine how many points are within the circle.\n",
    "lengths = la.norm(points, axis=0)\n",
    "num_within = np.count_nonzero(lengths < 1)\n",
    "\n",
    "# Estimate the circle's area.\n",
    "4 * (num_within / 2000)"
   ]
  },
  {
   "cell_type": "code",
   "execution_count": 9,
   "metadata": {},
   "outputs": [
    {
     "name": "stdout",
     "output_type": "stream",
     "text": [
      "8.827320341103658\t11.252486103247822\t11.4271939055696\t"
     ]
    }
   ],
   "source": [
    "for N in [5000, 7500, 10000]:\n",
    "    print(np.mean(1. / np.random.uniform(0, 1, N)), end='\\t')"
   ]
  },
  {
   "cell_type": "code",
   "execution_count": 10,
   "metadata": {},
   "outputs": [
    {
     "data": {
      "text/plain": [
       "0.4694277116055261"
      ]
     },
     "execution_count": 10,
     "metadata": {},
     "output_type": "execute_result"
    }
   ],
   "source": [
    "from scipy import stats\n",
    "\n",
    "# Define the bounds of integration.\n",
    "mins = np.array([-1, -1, -2])\n",
    "maxs = np.array([ 1,  3,  1])\n",
    "\n",
    "# The distribution has mean 0 and covariance I (the nxn identity).\n",
    "means, cov = np.zeros(3), np.eye(3)\n",
    "\n",
    "# Compute the integral with SciPy.\n",
    "stats.mvn.mvnun(mins, maxs, means, cov)[0]"
   ]
  }
 ],
 "metadata": {
  "kernelspec": {
   "display_name": "Python 3",
   "language": "python",
   "name": "python3"
  },
  "language_info": {
   "codemirror_mode": {
    "name": "ipython",
    "version": 3
   },
   "file_extension": ".py",
   "mimetype": "text/x-python",
   "name": "python",
   "nbconvert_exporter": "python",
   "pygments_lexer": "ipython3",
   "version": "3.6.4"
  }
 },
 "nbformat": 4,
 "nbformat_minor": 2
}
