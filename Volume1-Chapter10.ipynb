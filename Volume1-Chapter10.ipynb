{
 "cells": [
  {
   "cell_type": "markdown",
   "metadata": {},
   "source": [
    "# _Foundations of Applied Mathematics_ Labs: Volume 1"
   ]
  },
  {
   "cell_type": "code",
   "execution_count": 1,
   "metadata": {},
   "outputs": [],
   "source": [
    "%matplotlib inline"
   ]
  },
  {
   "cell_type": "markdown",
   "metadata": {},
   "source": [
    "# 10. Conditioning and Stability"
   ]
  },
  {
   "cell_type": "code",
   "execution_count": 38,
   "metadata": {},
   "outputs": [
    {
     "data": {
      "text/plain": [
       "39999991794.0589"
      ]
     },
     "execution_count": 38,
     "metadata": {},
     "output_type": "execute_result"
    }
   ],
   "source": [
    "import numpy as np\n",
    "from scipy import linalg as la\n",
    "\n",
    "A = np.array([[1, 1], [1, 1+1e-10]])\n",
    "np.linalg.cond(A)"
   ]
  },
  {
   "cell_type": "code",
   "execution_count": 39,
   "metadata": {},
   "outputs": [
    {
     "name": "stdout",
     "output_type": "stream",
     "text": [
      "[2. 0.]\n"
     ]
    }
   ],
   "source": [
    "# Set up and solve a simple system of equations.\n",
    "b1 = np.array([2, 2])\n",
    "x1 = la.solve(A, b1)\n",
    "print(x1)"
   ]
  },
  {
   "cell_type": "code",
   "execution_count": 40,
   "metadata": {},
   "outputs": [
    {
     "name": "stdout",
     "output_type": "stream",
     "text": [
      "[-99997.99172662  99999.99172662]\n"
     ]
    }
   ],
   "source": [
    "# Solve a system with a very slightly different vector b.\n",
    "b2 = np.array([2, 2+1e-5])\n",
    "la.norm(b1 - b2)\n",
    "x2 = la.solve(A, b2)\n",
    "print(x2) # This solution is hugely different!"
   ]
  },
  {
   "cell_type": "code",
   "execution_count": null,
   "metadata": {},
   "outputs": [],
   "source": [
    "w_coeffs = np.array([1, -210, 20615, -1256850, 53327946, -1672280820,\n",
    "                    40171771630, -756111184500, 11310276995381,\n",
    "                    -135585182899530, 1307535010540395,\n",
    "                    -10142299865511450, 63030812099294896,\n",
    "                    -311333643161390640, 1206647803780373360,\n",
    "                    -3599979517947607200, 8037811822645051776,\n",
    "                    -12870931245150988800, 13803759753640704000,\n",
    "                    -8752948036761600000, 2432902008176640000])\n",
    "w_roots = np.arange(1, 21)"
   ]
  },
  {
   "cell_type": "code",
   "execution_count": null,
   "metadata": {},
   "outputs": [],
   "source": [
    "import sympy as sy\n",
    "from matplotlib import pyplot as plt\n",
    "\n",
    "# The roots of w are 1, 2, ..., 20.\n",
    "w_roots = np.arange(1, 21)\n",
    "\n",
    "# Get the exact Wilkinson polynomial coefficients using SymPy.\n",
    "x, i = sy.symbols('x i')\n",
    "w = sy.poly_from_expr(sy.product(x-i, (i, 1, 20)))[0]\n",
    "w_coeffs = np.array(w.all_coeffs())\n",
    "print(w_coeffs[:6])"
   ]
  },
  {
   "cell_type": "code",
   "execution_count": null,
   "metadata": {},
   "outputs": [],
   "source": [
    "# Perturb one of the coefficients very slightly.\n",
    "h = np.zeros(21)\n",
    "h[1]=1e-7\n",
    "new_coeffs = w_coeffs - h\n",
    "print(new_coeffs[:6])"
   ]
  },
  {
   "cell_type": "code",
   "execution_count": null,
   "metadata": {},
   "outputs": [],
   "source": [
    "# Use NumPy to compute the roots of the perturbed polynomial.\n",
    "new_roots = np.roots(np.poly1d(new_coeffs))"
   ]
  },
  {
   "cell_type": "code",
   "execution_count": null,
   "metadata": {},
   "outputs": [],
   "source": [
    "# Sort the roots to ensure that they are in the same order.\n",
    "w_roots = np.sort(w_roots)\n",
    "new_roots = np.sort(new_roots)"
   ]
  },
  {
   "cell_type": "code",
   "execution_count": null,
   "metadata": {},
   "outputs": [],
   "source": [
    "# Estimate the absolute condition number in the infinity norm.\n",
    "k = la.norm(new_roots - w_roots, np.inf) / la.norm(h, np.inf)\n",
    "print(k)"
   ]
  },
  {
   "cell_type": "code",
   "execution_count": null,
   "metadata": {},
   "outputs": [],
   "source": [
    "# Estimate the relative condition number in the infinity norm.\n",
    "k * la.norm(w_coeffs, np.inf) / la.norm(w_roots, np.inf) # This is huge!!"
   ]
  },
  {
   "cell_type": "code",
   "execution_count": null,
   "metadata": {},
   "outputs": [],
   "source": [
    "reals = np.random.normal(0, 1e-10, A.shape)\n",
    "imags = np.random.normal(0, 1e-10, A.shape)\n",
    "H = reals + 1j*imags\n",
    "\n",
    "# w_coeffs holds the coefficients and w_roots holds the true roots.\n",
    "computed_roots = np.sort(np.roots(np.poly1d(w_coeffs)))\n",
    "print(computed_roots[:6])       # The computed roots are close to integers."
   ]
  },
  {
   "cell_type": "code",
   "execution_count": null,
   "metadata": {},
   "outputs": [],
   "source": [
    "# Compute the forward error.\n",
    "forward_error = la.norm(w_roots - computed_roots)\n",
    "print(forward_error)"
   ]
  },
  {
   "cell_type": "code",
   "execution_count": null,
   "metadata": {},
   "outputs": [],
   "source": [
    "# Compute the relative forward error.\n",
    "forward_error / la.norm(w_roots) # The error is nice and small."
   ]
  },
  {
   "cell_type": "code",
   "execution_count": null,
   "metadata": {},
   "outputs": [],
   "source": [
    "# Use least squares to approximate sin(x) with a five-degree polynomial.\n",
    "x = np.linspace(0, 6, 10)           # The x-values of the data.\n",
    "b = np.sin(x) + .2*np.random.randn(10) # The y-values of the data (noisy).\n",
    "A = np.vander(x, 6)                 # Set up the matrix of data values.\n",
    "coeffs = la.lstsq(A, b)[0]          # Get the polynomial coefficients.\n",
    "\n",
    "domain = np.linspace(0, 6, 100)     # Define a finer domain for plotting.\n",
    "plt.plot(x, b, 'k*')\t\t\t\t# Plot the approximated points."
   ]
  },
  {
   "cell_type": "code",
   "execution_count": null,
   "metadata": {},
   "outputs": [],
   "source": [
    "plt.plot(domain, np.sin(domain))"
   ]
  },
  {
   "cell_type": "code",
   "execution_count": null,
   "metadata": {},
   "outputs": [],
   "source": [
    "# np.poly1d() converts an array of coefficients into a callable polynomial.\n",
    "plt.plot(domain, np.poly1d(coeffs)(domain))"
   ]
  },
  {
   "cell_type": "code",
   "execution_count": null,
   "metadata": {},
   "outputs": [],
   "source": [
    "xk, yk = np.load(\"stability_data.npy\").T\n",
    "A = np.vander(xk, n+1)"
   ]
  },
  {
   "cell_type": "code",
   "execution_count": null,
   "metadata": {},
   "outputs": [],
   "source": [
    "from math import sqrt           # np.sqrt() fails for very large numbers.\n",
    "\n",
    "a = 10**20 + 1\n",
    "b = 10**20\n",
    "sqrt(a) - sqrt(b)               # Do the subtraction directly."
   ]
  },
  {
   "cell_type": "code",
   "execution_count": null,
   "metadata": {},
   "outputs": [],
   "source": [
    "(a - b) / (sqrt(a) + sqrt(b))   # Use the alternative formulation."
   ]
  }
 ],
 "metadata": {
  "kernelspec": {
   "display_name": "Python 3",
   "language": "python",
   "name": "python3"
  },
  "language_info": {
   "codemirror_mode": {
    "name": "ipython",
    "version": 3
   },
   "file_extension": ".py",
   "mimetype": "text/x-python",
   "name": "python",
   "nbconvert_exporter": "python",
   "pygments_lexer": "ipython3",
   "version": "3.6.4"
  }
 },
 "nbformat": 4,
 "nbformat_minor": 2
}
