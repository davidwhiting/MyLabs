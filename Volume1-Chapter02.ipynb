{
 "cells": [
  {
   "cell_type": "markdown",
   "metadata": {},
   "source": [
    "# _Foundations of Applied Mathematics_ Labs: Volume 1"
   ]
  },
  {
   "cell_type": "code",
   "execution_count": 1,
   "metadata": {},
   "outputs": [],
   "source": [
    "%matplotlib inline"
   ]
  },
  {
   "cell_type": "markdown",
   "metadata": {},
   "source": [
    "# 2. Linear Systems\n"
   ]
  },
  {
   "cell_type": "markdown",
   "metadata": {},
   "source": [
    "### Gaussian Elimination"
   ]
  },
  {
   "cell_type": "code",
   "execution_count": 10,
   "metadata": {},
   "outputs": [
    {
     "name": "stdout",
     "output_type": "stream",
     "text": [
      "[[1. 1. 1. 1.]\n",
      " [0. 3. 1. 2.]\n",
      " [0. 0. 3. 3.]]\n"
     ]
    }
   ],
   "source": [
    "import numpy as np\n",
    "\n",
    "A = np.array([[1, 1, 1, 1],\n",
    "              [1, 4, 2, 3],\n",
    "              [4, 7, 8, 9]], dtype=np.float)\n",
    "\n",
    "# Reduce the 0th column to zeros below the diagonal.\n",
    "A[1,0:] -= (A[1,0] / A[0,0]) * A[0]\n",
    "A[2,0:] -= (A[2,0] / A[0,0]) * A[0]\n",
    "\n",
    "# Reduce the 1st column to zeros below the diagonal.\n",
    "A[2,1:] -= (A[2,1] / A[1,1]) * A[1,1:]\n",
    "print(A)"
   ]
  },
  {
   "cell_type": "markdown",
   "metadata": {},
   "source": [
    "_Gaussian elimination is not numerically stable. The NumPy routines that employ row reduction use several tricks to reduce round-off error._"
   ]
  },
  {
   "cell_type": "markdown",
   "metadata": {},
   "source": [
    "**Problem 1.** Write a function that reduces an arbitrary square matrix $A$ to REF.\n",
    "You may assume that $A$ is invertible and that a $0$ will never appear on the main diagonal (so only use type III row reductions, not type II).\n",
    "Avoid operating on entries that you know will be $0$ before and after a row operation. Use at most two nested loops.\n",
    "\n",
    "Test your function with small test cases that you can check by hand.\n",
    "Consider using `np.random.randint()` to generate a few manageable tests cases."
   ]
  },
  {
   "cell_type": "markdown",
   "metadata": {},
   "source": [
    "**Solution 1.**"
   ]
  },
  {
   "cell_type": "markdown",
   "metadata": {},
   "source": [
    "### LU Decomposition"
   ]
  },
  {
   "cell_type": "markdown",
   "metadata": {},
   "source": [
    "**Problem 2.** Write a function that finds the LU decomposition of a square matrix.\n",
    "You may assume that the decomposition exists and requires no row swaps."
   ]
  },
  {
   "cell_type": "markdown",
   "metadata": {},
   "source": [
    "**Solution 2.**"
   ]
  },
  {
   "cell_type": "markdown",
   "metadata": {},
   "source": [
    "### Forward and Backward Substitution"
   ]
  },
  {
   "cell_type": "markdown",
   "metadata": {},
   "source": [
    "**Problem 3.** Write a function that, given $A$ and $b$, solves the square linear system $Ax = b$. Use the function from Problem 2 to compute $L$ and $U$, then use (2.1) and (2.2) to solve for $y$, then $x$. You may again assume that no row swaps are required ($P = I$ in this case)."
   ]
  },
  {
   "cell_type": "markdown",
   "metadata": {},
   "source": [
    "**Solution 3.**"
   ]
  },
  {
   "cell_type": "markdown",
   "metadata": {},
   "source": [
    "## SciPy"
   ]
  },
  {
   "cell_type": "code",
   "execution_count": 11,
   "metadata": {},
   "outputs": [
    {
     "data": {
      "text/plain": [
       "False"
      ]
     },
     "execution_count": 11,
     "metadata": {},
     "output_type": "execute_result"
    }
   ],
   "source": [
    "import scipy as sp\n",
    "hasattr(sp, \"stats\")            # The stats module isn't loaded yet."
   ]
  },
  {
   "cell_type": "code",
   "execution_count": 12,
   "metadata": {},
   "outputs": [
    {
     "data": {
      "text/plain": [
       "True"
      ]
     },
     "execution_count": 12,
     "metadata": {},
     "output_type": "execute_result"
    }
   ],
   "source": [
    "from scipy import stats         # Import stats explicitly. Access it\n",
    "hasattr(sp, \"stats\")            # with 'stats' or 'sp.stats'."
   ]
  },
  {
   "cell_type": "markdown",
   "metadata": {},
   "source": [
    "### Linear Algebra"
   ]
  },
  {
   "cell_type": "code",
   "execution_count": 13,
   "metadata": {},
   "outputs": [
    {
     "data": {
      "text/plain": [
       "True"
      ]
     },
     "execution_count": 13,
     "metadata": {},
     "output_type": "execute_result"
    }
   ],
   "source": [
    "from scipy import linalg as la\n",
    "\n",
    "# Make a random matrix and a random vector.\n",
    "A = np.random.random((1000,1000))\n",
    "b = np.random.random(1000)\n",
    "\n",
    "# Compute the LU decomposition of A, including pivots.\n",
    "L, P = la.lu_factor(A)\n",
    "\n",
    "# Use the LU decomposition to solve Ax = b.\n",
    "x = la.lu_solve((L,P), b)\n",
    "\n",
    "# Check that the solution is legitimate.\n",
    "np.allclose(A @ x, b)"
   ]
  },
  {
   "cell_type": "markdown",
   "metadata": {},
   "source": [
    "**Problem 4.** Write a function that times different `scipy.linalg` functions for solving square linear systems.\n",
    "\n",
    "For various values of $n$, generate a random $n \\times n$ matrix $A$ and a random $n$-vector $b$ using `np.random.random()`.\n",
    "Time how long it takes to solve the system $Ax = b$ with each of the following approaches:\n",
    "\n",
    "1. Invert $A$ with `la.inv()` and left-multiply the inverse to $b$.\n",
    "1. Use `la.solve()`.\n",
    "1. Use `la.lu_factor()` and `la.lu_solve()` to solve the system with the LU decomposition.\n",
    "1. Use `la.lu_factor()` and `la.lu_solve()`, but only time `la.lu_solve()` (not the time it takes to do the factorization with `la.lu_factor()`).\n",
    "\n",
    "Plot the system size $n$ versus the execution times.\n",
    "Use log scales if needed."
   ]
  },
  {
   "cell_type": "markdown",
   "metadata": {},
   "source": [
    "**Solution 4.**"
   ]
  },
  {
   "cell_type": "markdown",
   "metadata": {},
   "source": [
    "### Sparse Matrices\n",
    "\n",
    "#### Coordinate Format:"
   ]
  },
  {
   "cell_type": "code",
   "execution_count": 14,
   "metadata": {},
   "outputs": [
    {
     "name": "stdout",
     "output_type": "stream",
     "text": [
      "  (0, 0)\t3\n",
      "  (1, 1)\t5\n",
      "  (0, 1)\t2\n"
     ]
    }
   ],
   "source": [
    "from scipy import sparse\n",
    "\n",
    "# Define the rows, columns, and values separately.\n",
    "rows = np.array([0, 1, 0])\n",
    "cols = np.array([0, 1, 1])\n",
    "vals = np.array([3, 5, 2])\n",
    "A = sparse.coo_matrix((vals, (rows,cols)), shape=(3,3))\n",
    "print(A)"
   ]
  },
  {
   "cell_type": "code",
   "execution_count": 15,
   "metadata": {},
   "outputs": [
    {
     "name": "stdout",
     "output_type": "stream",
     "text": [
      "[[3 2 0]\n",
      " [0 5 0]\n",
      " [0 0 0]]\n"
     ]
    }
   ],
   "source": [
    "# The toarray() method casts the sparse matrix as a NumPy array.\n",
    "# Note that this method forfeits all sparsity-related optimizations.\n",
    "print(A.toarray()) "
   ]
  },
  {
   "cell_type": "markdown",
   "metadata": {},
   "source": [
    "#### DOK and LIL Formats:"
   ]
  },
  {
   "cell_type": "code",
   "execution_count": 16,
   "metadata": {},
   "outputs": [
    {
     "name": "stdout",
     "output_type": "stream",
     "text": [
      "[[0. 0. 4. 0. 0. 0.]\n",
      " [0. 0. 0. 9. 9. 9.]]\n"
     ]
    }
   ],
   "source": [
    "B = sparse.lil_matrix((2,6))\n",
    "B[0,2] = 4\n",
    "B[1,3:] = 9\n",
    "\n",
    "print(B.toarray())"
   ]
  },
  {
   "cell_type": "markdown",
   "metadata": {},
   "source": [
    "#### DIA Format:"
   ]
  },
  {
   "cell_type": "code",
   "execution_count": 17,
   "metadata": {},
   "outputs": [
    {
     "name": "stdout",
     "output_type": "stream",
     "text": [
      "[[3. 0. 0. 6.]\n",
      " [1. 4. 0. 0.]\n",
      " [0. 2. 5. 0.]]\n"
     ]
    }
   ],
   "source": [
    "# Use sparse.diags() to create a matrix with diagonal entries.\n",
    "diagonals = [[1,2],[3,4,5],[6]]     # List the diagonal entries.\n",
    "offsets = [-1,0,3]                  # Specify the diagonal they go on.\n",
    "print(sparse.diags(diagonals, offsets, shape=(3,4)).toarray())"
   ]
  },
  {
   "cell_type": "code",
   "execution_count": 18,
   "metadata": {},
   "outputs": [
    {
     "name": "stdout",
     "output_type": "stream",
     "text": [
      "[[3. 0. 0. 6.]\n",
      " [1. 3. 0. 0.]\n",
      " [0. 1. 3. 0.]]\n"
     ]
    }
   ],
   "source": [
    "# If all of the diagonals have the same entry, specify the entry alone.\n",
    "A = sparse.diags([1,3,6], offsets, shape=(3,4))\n",
    "print(A.toarray())"
   ]
  },
  {
   "cell_type": "code",
   "execution_count": 19,
   "metadata": {},
   "outputs": [
    {
     "name": "stdout",
     "output_type": "stream",
     "text": [
      "[[4. 0. 0. 6.]\n",
      " [1. 4. 0. 0.]\n",
      " [0. 1. 4. 0.]]\n"
     ]
    }
   ],
   "source": [
    "# Modify a diagonal with the setdiag() method.\n",
    "A.setdiag([4,4,4], 0)\n",
    "print(A.toarray())"
   ]
  },
  {
   "cell_type": "markdown",
   "metadata": {},
   "source": [
    "#### BSR Format:"
   ]
  },
  {
   "cell_type": "code",
   "execution_count": 20,
   "metadata": {},
   "outputs": [
    {
     "name": "stdout",
     "output_type": "stream",
     "text": [
      "[[1. 1. 0. 0. 1. 1.]\n",
      " [1. 1. 0. 0. 1. 1.]\n",
      " [0. 0. 2. 2. 0. 0.]\n",
      " [0. 0. 2. 2. 0. 0.]]\n"
     ]
    }
   ],
   "source": [
    "# Use sparse.bmat() to create a block matrix. Use 'None' for zero blocks.\n",
    "A = sparse.coo_matrix(np.ones((2,2)))\n",
    "B = sparse.coo_matrix(np.full((2,2), 2.))\n",
    "print(sparse.bmat([[  A , None,  A  ],\n",
    "                   [None,  B  , None]], \n",
    "                  format='bsr').toarray())"
   ]
  },
  {
   "cell_type": "code",
   "execution_count": 21,
   "metadata": {},
   "outputs": [
    {
     "name": "stdout",
     "output_type": "stream",
     "text": [
      "[[1. 1. 0. 0.]\n",
      " [1. 1. 0. 0.]\n",
      " [0. 0. 2. 2.]\n",
      " [0. 0. 2. 2.]]\n"
     ]
    }
   ],
   "source": [
    "# Use sparse.block_diag() to construct a block diagonal matrix.\n",
    "print(sparse.block_diag((A,B)).toarray())"
   ]
  },
  {
   "cell_type": "markdown",
   "metadata": {},
   "source": [
    "NOTE: Visualizing a sparse matrix"
   ]
  },
  {
   "cell_type": "code",
   "execution_count": 22,
   "metadata": {},
   "outputs": [
    {
     "data": {
      "image/png": "[encoded data removed]",
      "text/plain": [
       "<matplotlib.figure.Figure at 0x113efaa20>"
      ]
     },
     "metadata": {},
     "output_type": "display_data"
    }
   ],
   "source": [
    "from matplotlib import pyplot as plt\n",
    "\n",
    "# Construct and show a matrix with 50 2x3 diagonal blocks.\n",
    "B = sparse.coo_matrix([[1,3,5],[7,9,11]])\n",
    "A = sparse.block_diag([B]*50)\n",
    "plt.spy(A, markersize=1)\n",
    "plt.show()"
   ]
  },
  {
   "cell_type": "markdown",
   "metadata": {},
   "source": [
    "**Problem 5.** Let $I$ be the $n\\times n$ identity matrix, and define\n",
    "\n",
    "$A =\\begin{bmatrix}\n",
    "B & I &      &        & \\\\\n",
    "I & B &  I   &        & \\\\\n",
    "  & I & \\ddots & \\ddots & \\\\\n",
    "  &   & \\ddots & \\ddots & I \\\\\n",
    "  &   &        &    I   & B\n",
    "\\end{bmatrix}$, $\\quad$\n",
    "$B = \\begin{bmatrix}\n",
    "-4 &  1 &      &        & \\\\\n",
    " 1 & -4 &  1   &        & \\\\\n",
    "   &  1 & \\ddots & \\ddots & \\\\\n",
    "   &    & \\ddots & \\ddots & 1 \\\\\n",
    "   &    &        &    1   & -4\n",
    "\\end{bmatrix}$,\n",
    "\n",
    "where $A$ is $n^2\\times n^2$ and each block $B$ is $n\\times n$.\n",
    "The large matrix $A$ is used in finite difference methods for solving Laplace's equation in two dimensions, $\\frac{\\partial^2u}{\\partial x^2} + \\frac{\\partial^2u}{\\partial y^2} = 0$.\n",
    "\n",
    "Write a function that accepts an integer $n$ and constructs and returns $A$ as a sparse matrix. Use `plt.spy()` to check that your matrix has nonzero values in the correct places."
   ]
  },
  {
   "cell_type": "markdown",
   "metadata": {},
   "source": [
    "**Solution 5.**"
   ]
  },
  {
   "cell_type": "markdown",
   "metadata": {},
   "source": [
    "#### Sparse Matrix Operations"
   ]
  },
  {
   "cell_type": "code",
   "execution_count": 23,
   "metadata": {},
   "outputs": [
    {
     "data": {
      "text/plain": [
       "<10000x10000 sparse matrix of type '<class 'numpy.float64'>'\n",
       "\twith 9999 stored elements in LInked List format>"
      ]
     },
     "execution_count": 23,
     "metadata": {},
     "output_type": "execute_result"
    }
   ],
   "source": [
    "# Initialize a sparse matrix incrementally as a lil_matrix.\n",
    "A = sparse.lil_matrix((10000,10000))\n",
    "for k in range(10000):\n",
    "    A[np.random.randint(0,9999), np.random.randint(0,9999)] = k\n",
    "A"
   ]
  },
  {
   "cell_type": "code",
   "execution_count": 24,
   "metadata": {},
   "outputs": [
    {
     "data": {
      "text/plain": [
       "<10000x10000 sparse matrix of type '<class 'numpy.float64'>'\n",
       "\twith 9941 stored elements in Compressed Sparse Row format>"
      ]
     },
     "execution_count": 24,
     "metadata": {},
     "output_type": "execute_result"
    }
   ],
   "source": [
    "# Convert A to CSR and CSC formats to compute the matrix product AA.\n",
    "Acsr = A.tocsr()\n",
    "Acsc = A.tocsc()\n",
    "Acsr.dot(Acsc)"
   ]
  },
  {
   "cell_type": "markdown",
   "metadata": {},
   "source": [
    "_Note that NumPy arrays and SciPy sparse matrices have slightly different syntax._ SciPy has its own linear algebra library for sparse matrices."
   ]
  },
  {
   "cell_type": "code",
   "execution_count": 25,
   "metadata": {},
   "outputs": [],
   "source": [
    "from scipy.sparse import linalg as spla"
   ]
  },
  {
   "cell_type": "markdown",
   "metadata": {},
   "source": [
    "**Problem 6.** Write a function that times regular and sparse linear system solvers.\n",
    "\n",
    "For various values of $n$, generate the $n^2 \\times n^2$ matrix $A$ described in Problem 5 and a random vector $\\mathbf{b}$ with $n^2$ entries.\n",
    "Time how long it takes to solve the system $A\\mathbf{x} = \\mathbf{b}$ with each of the following approaches:\n",
    "\n",
    "\n",
    "1. Convert $A$ to CSR format and use `scipy.sparse.linalg.spsolve()` (`spla.spsolve()`).\n",
    "\n",
    "1. Convert $A$ to a NumPy array and use `scipy.linalg.solve()` (`la.solve()`).\n",
    "\n",
    "\n",
    "In each experiment, only time how long it takes to solve the system (not how long it takes to convert $A$ to the appropriate format).\n",
    "\n",
    "Plot the system size $n^{2}$ versus the execution times.\n",
    "As always, use log scales where appropriate and use a legend to label each line.\n"
   ]
  },
  {
   "cell_type": "markdown",
   "metadata": {},
   "source": [
    "**Solution 6.**"
   ]
  },
  {
   "cell_type": "markdown",
   "metadata": {},
   "source": [
    "#### Improvements on the LU Decomposition"
   ]
  },
  {
   "cell_type": "code",
   "execution_count": 27,
   "metadata": {},
   "outputs": [
    {
     "name": "stdout",
     "output_type": "stream",
     "text": [
      "[[0. 0. 0.]\n",
      " [1. 1. 1.]\n",
      " [2. 2. 2.]]\n"
     ]
    }
   ],
   "source": [
    "A = np.zeros(3) + np.vstack(np.arange(3))\n",
    "P = np.arange(3)\n",
    "print(A)"
   ]
  },
  {
   "cell_type": "code",
   "execution_count": 28,
   "metadata": {},
   "outputs": [
    {
     "name": "stdout",
     "output_type": "stream",
     "text": [
      "[[0. 0. 0.]\n",
      " [2. 2. 2.]\n",
      " [1. 1. 1.]]\n"
     ]
    }
   ],
   "source": [
    "# Swap rows 1 and 2.\n",
    "A[1], A[2] = np.copy(A[2]), np.copy(A[1])\n",
    "P[1], P[2] = P[2], P[1]\n",
    "print(A)                        # A with the new row arrangement."
   ]
  },
  {
   "cell_type": "code",
   "execution_count": 29,
   "metadata": {},
   "outputs": [
    {
     "name": "stdout",
     "output_type": "stream",
     "text": [
      "[0 2 1]\n"
     ]
    }
   ],
   "source": [
    "print(P)                        # The permutation of the rows."
   ]
  },
  {
   "cell_type": "code",
   "execution_count": 30,
   "metadata": {
    "scrolled": true
   },
   "outputs": [
    {
     "name": "stdout",
     "output_type": "stream",
     "text": [
      "[[0. 0. 0.]\n",
      " [1. 1. 1.]\n",
      " [2. 2. 2.]]\n"
     ]
    }
   ],
   "source": [
    "print(A[P])                     # A with the original row arrangement."
   ]
  }
 ],
 "metadata": {
  "kernelspec": {
   "display_name": "Python 3",
   "language": "python",
   "name": "python3"
  },
  "language_info": {
   "codemirror_mode": {
    "name": "ipython",
    "version": 3
   },
   "file_extension": ".py",
   "mimetype": "text/x-python",
   "name": "python",
   "nbconvert_exporter": "python",
   "pygments_lexer": "ipython3",
   "version": "3.6.4"
  }
 },
 "nbformat": 4,
 "nbformat_minor": 2
}
