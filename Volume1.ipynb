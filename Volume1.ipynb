{
 "cells": [
  {
   "cell_type": "markdown",
   "metadata": {},
   "source": [
    "# _Foundations of Applied Mathematics_ Labs: Volume 1"
   ]
  },
  {
   "cell_type": "code",
   "execution_count": 1,
   "metadata": {},
   "outputs": [],
   "source": [
    "%matplotlib inline"
   ]
  },
  {
   "cell_type": "markdown",
   "metadata": {},
   "source": [
    "# 8. Differentiation"
   ]
  },
  {
   "cell_type": "markdown",
   "metadata": {},
   "source": [
    "# 9. Newton’s Method"
   ]
  },
  {
   "cell_type": "code",
   "execution_count": 42,
   "metadata": {},
   "outputs": [
    {
     "name": "stdout",
     "output_type": "stream",
     "text": [
      "10  5.0  2.5  1.25  0.625  0.3125  0.15625  0.078125  "
     ]
    }
   ],
   "source": [
    "F = lambda x: x / 2\n",
    "x0, tol, maxiters = 10, 1e-9, 8\n",
    "for k in range(maxiters):           # Iterate at most N times.\n",
    "    print(x0, end='  ')\n",
    "    x1 = F(x0)                      # Compute the next iteration.\n",
    "    if abs(x1 - x0) < tol:          # Check for convergence.\n",
    "        break                       # Upon convergence, stop iterating.\n",
    "    x0 = x1                         # Otherwise, continue iterating."
   ]
  },
  {
   "cell_type": "code",
   "execution_count": 44,
   "metadata": {},
   "outputs": [],
   "source": [
    "import numpy as np\n",
    "f = lambda x: np.sign(x) * np.power(np.abs(x), 1./3)\n",
    "\n",
    "x_real = np.linspace(-1.5, 1.5, 500)    # Real parts.\n",
    "x_imag = np.linspace(-1.5, 1.5, 500)    # Imaginary parts.\n",
    "X_real, X_imag = np.meshgrid(x_real, x_imag)\n",
    "X_0 = X_real + 1j*X_imag                # Combine real and imaginary parts."
   ]
  },
  {
   "cell_type": "code",
   "execution_count": 45,
   "metadata": {},
   "outputs": [],
   "source": [
    "f = lambda x: x**3 - 1\n",
    "Df = lambda x: 3*x**2\n",
    "X_1 = X_0 - f(X_0)/Df(X_0)"
   ]
  },
  {
   "cell_type": "markdown",
   "metadata": {},
   "source": [
    "# 10. Conditioning and Stability"
   ]
  },
  {
   "cell_type": "code",
   "execution_count": 38,
   "metadata": {},
   "outputs": [
    {
     "data": {
      "text/plain": [
       "39999991794.0589"
      ]
     },
     "execution_count": 38,
     "metadata": {},
     "output_type": "execute_result"
    }
   ],
   "source": [
    "import numpy as np\n",
    "from scipy import linalg as la\n",
    "\n",
    "A = np.array([[1, 1], [1, 1+1e-10]])\n",
    "np.linalg.cond(A)"
   ]
  },
  {
   "cell_type": "code",
   "execution_count": 39,
   "metadata": {},
   "outputs": [
    {
     "name": "stdout",
     "output_type": "stream",
     "text": [
      "[2. 0.]\n"
     ]
    }
   ],
   "source": [
    "# Set up and solve a simple system of equations.\n",
    "b1 = np.array([2, 2])\n",
    "x1 = la.solve(A, b1)\n",
    "print(x1)"
   ]
  },
  {
   "cell_type": "code",
   "execution_count": 40,
   "metadata": {},
   "outputs": [
    {
     "name": "stdout",
     "output_type": "stream",
     "text": [
      "[-99997.99172662  99999.99172662]\n"
     ]
    }
   ],
   "source": [
    "# Solve a system with a very slightly different vector b.\n",
    "b2 = np.array([2, 2+1e-5])\n",
    "la.norm(b1 - b2)\n",
    "x2 = la.solve(A, b2)\n",
    "print(x2) # This solution is hugely different!"
   ]
  },
  {
   "cell_type": "code",
   "execution_count": null,
   "metadata": {},
   "outputs": [],
   "source": [
    "w_coeffs = np.array([1, -210, 20615, -1256850, 53327946, -1672280820,\n",
    "                    40171771630, -756111184500, 11310276995381,\n",
    "                    -135585182899530, 1307535010540395,\n",
    "                    -10142299865511450, 63030812099294896,\n",
    "                    -311333643161390640, 1206647803780373360,\n",
    "                    -3599979517947607200, 8037811822645051776,\n",
    "                    -12870931245150988800, 13803759753640704000,\n",
    "                    -8752948036761600000, 2432902008176640000])\n",
    "w_roots = np.arange(1, 21)"
   ]
  },
  {
   "cell_type": "code",
   "execution_count": null,
   "metadata": {},
   "outputs": [],
   "source": [
    "import sympy as sy\n",
    "from matplotlib import pyplot as plt\n",
    "\n",
    "# The roots of w are 1, 2, ..., 20.\n",
    "w_roots = np.arange(1, 21)\n",
    "\n",
    "# Get the exact Wilkinson polynomial coefficients using SymPy.\n",
    "x, i = sy.symbols('x i')\n",
    "w = sy.poly_from_expr(sy.product(x-i, (i, 1, 20)))[0]\n",
    "w_coeffs = np.array(w.all_coeffs())\n",
    "print(w_coeffs[:6])"
   ]
  },
  {
   "cell_type": "code",
   "execution_count": null,
   "metadata": {},
   "outputs": [],
   "source": [
    "# Perturb one of the coefficients very slightly.\n",
    "h = np.zeros(21)\n",
    "h[1]=1e-7\n",
    "new_coeffs = w_coeffs - h\n",
    "print(new_coeffs[:6])"
   ]
  },
  {
   "cell_type": "code",
   "execution_count": null,
   "metadata": {},
   "outputs": [],
   "source": [
    "# Use NumPy to compute the roots of the perturbed polynomial.\n",
    "new_roots = np.roots(np.poly1d(new_coeffs))"
   ]
  },
  {
   "cell_type": "code",
   "execution_count": null,
   "metadata": {},
   "outputs": [],
   "source": [
    "# Sort the roots to ensure that they are in the same order.\n",
    "w_roots = np.sort(w_roots)\n",
    "new_roots = np.sort(new_roots)"
   ]
  },
  {
   "cell_type": "code",
   "execution_count": null,
   "metadata": {},
   "outputs": [],
   "source": [
    "# Estimate the absolute condition number in the infinity norm.\n",
    "k = la.norm(new_roots - w_roots, np.inf) / la.norm(h, np.inf)\n",
    "print(k)"
   ]
  },
  {
   "cell_type": "code",
   "execution_count": null,
   "metadata": {},
   "outputs": [],
   "source": [
    "# Estimate the relative condition number in the infinity norm.\n",
    "k * la.norm(w_coeffs, np.inf) / la.norm(w_roots, np.inf) # This is huge!!"
   ]
  },
  {
   "cell_type": "code",
   "execution_count": null,
   "metadata": {},
   "outputs": [],
   "source": [
    "reals = np.random.normal(0, 1e-10, A.shape)\n",
    "imags = np.random.normal(0, 1e-10, A.shape)\n",
    "H = reals + 1j*imags\n",
    "\n",
    "# w_coeffs holds the coefficients and w_roots holds the true roots.\n",
    "computed_roots = np.sort(np.roots(np.poly1d(w_coeffs)))\n",
    "print(computed_roots[:6])       # The computed roots are close to integers."
   ]
  },
  {
   "cell_type": "code",
   "execution_count": null,
   "metadata": {},
   "outputs": [],
   "source": [
    "# Compute the forward error.\n",
    "forward_error = la.norm(w_roots - computed_roots)\n",
    "print(forward_error)"
   ]
  },
  {
   "cell_type": "code",
   "execution_count": null,
   "metadata": {},
   "outputs": [],
   "source": [
    "# Compute the relative forward error.\n",
    "forward_error / la.norm(w_roots) # The error is nice and small."
   ]
  },
  {
   "cell_type": "code",
   "execution_count": null,
   "metadata": {},
   "outputs": [],
   "source": [
    "# Use least squares to approximate sin(x) with a five-degree polynomial.\n",
    "x = np.linspace(0, 6, 10)           # The x-values of the data.\n",
    "b = np.sin(x) + .2*np.random.randn(10) # The y-values of the data (noisy).\n",
    "A = np.vander(x, 6)                 # Set up the matrix of data values.\n",
    "coeffs = la.lstsq(A, b)[0]          # Get the polynomial coefficients.\n",
    "\n",
    "domain = np.linspace(0, 6, 100)     # Define a finer domain for plotting.\n",
    "plt.plot(x, b, 'k*')\t\t\t\t# Plot the approximated points."
   ]
  },
  {
   "cell_type": "code",
   "execution_count": null,
   "metadata": {},
   "outputs": [],
   "source": [
    "plt.plot(domain, np.sin(domain))"
   ]
  },
  {
   "cell_type": "code",
   "execution_count": null,
   "metadata": {},
   "outputs": [],
   "source": [
    "# np.poly1d() converts an array of coefficients into a callable polynomial.\n",
    "plt.plot(domain, np.poly1d(coeffs)(domain))"
   ]
  },
  {
   "cell_type": "code",
   "execution_count": null,
   "metadata": {},
   "outputs": [],
   "source": [
    "xk, yk = np.load(\"stability_data.npy\").T\n",
    "A = np.vander(xk, n+1)"
   ]
  },
  {
   "cell_type": "code",
   "execution_count": null,
   "metadata": {},
   "outputs": [],
   "source": [
    "from math import sqrt           # np.sqrt() fails for very large numbers.\n",
    "\n",
    "a = 10**20 + 1\n",
    "b = 10**20\n",
    "sqrt(a) - sqrt(b)               # Do the subtraction directly."
   ]
  },
  {
   "cell_type": "code",
   "execution_count": null,
   "metadata": {},
   "outputs": [],
   "source": [
    "(a - b) / (sqrt(a) + sqrt(b))   # Use the alternative formulation."
   ]
  },
  {
   "cell_type": "markdown",
   "metadata": {},
   "source": [
    "# 11. Monte Carlo Integration"
   ]
  },
  {
   "cell_type": "code",
   "execution_count": 8,
   "metadata": {},
   "outputs": [
    {
     "data": {
      "text/plain": [
       "3.136"
      ]
     },
     "execution_count": 8,
     "metadata": {},
     "output_type": "execute_result"
    }
   ],
   "source": [
    "import numpy as np\n",
    "from scipy import linalg as la\n",
    "\n",
    "# Get 2000 random points in the 2-D domain [-1,1]x[-1,1].\n",
    "points = np.random.uniform(-1, 1, (2,2000))\n",
    "\n",
    "# Determine how many points are within the circle.\n",
    "lengths = la.norm(points, axis=0)\n",
    "num_within = np.count_nonzero(lengths < 1)\n",
    "\n",
    "# Estimate the circle's area.\n",
    "4 * (num_within / 2000)"
   ]
  },
  {
   "cell_type": "code",
   "execution_count": 9,
   "metadata": {},
   "outputs": [
    {
     "name": "stdout",
     "output_type": "stream",
     "text": [
      "8.827320341103658\t11.252486103247822\t11.4271939055696\t"
     ]
    }
   ],
   "source": [
    "for N in [5000, 7500, 10000]:\n",
    "    print(np.mean(1. / np.random.uniform(0, 1, N)), end='\\t')"
   ]
  },
  {
   "cell_type": "code",
   "execution_count": 10,
   "metadata": {},
   "outputs": [
    {
     "data": {
      "text/plain": [
       "0.4694277116055261"
      ]
     },
     "execution_count": 10,
     "metadata": {},
     "output_type": "execute_result"
    }
   ],
   "source": [
    "from scipy import stats\n",
    "\n",
    "# Define the bounds of integration.\n",
    "mins = np.array([-1, -1, -2])\n",
    "maxs = np.array([ 1,  3,  1])\n",
    "\n",
    "# The distribution has mean 0 and covariance I (the nxn identity).\n",
    "means, cov = np.zeros(3), np.eye(3)\n",
    "\n",
    "# Compute the integral with SciPy.\n",
    "stats.mvn.mvnun(mins, maxs, means, cov)[0]"
   ]
  },
  {
   "cell_type": "markdown",
   "metadata": {},
   "source": [
    "# 12. Importance Sampling"
   ]
  },
  {
   "cell_type": "code",
   "execution_count": 1,
   "metadata": {},
   "outputs": [
    {
     "data": {
      "text/plain": [
       "0.24197072451914337"
      ]
     },
     "execution_count": 1,
     "metadata": {},
     "output_type": "execute_result"
    }
   ],
   "source": [
    "from scipy import stats\n",
    "import numpy as np\n",
    "\n",
    "# Create an object for the standard normal distribution.\n",
    "F = stats.norm()\n",
    "# loc is the mean and scale is the standard deviation.\n",
    "G = stats.norm(loc=3, scale=2)\n",
    "\n",
    "# Calculate the probability of drawing a 1 from the normal distribution.\n",
    "F.pdf(1)"
   ]
  },
  {
   "cell_type": "code",
   "execution_count": 2,
   "metadata": {},
   "outputs": [
    {
     "data": {
      "text/plain": [
       "0.26221327268838235"
      ]
     },
     "execution_count": 2,
     "metadata": {},
     "output_type": "execute_result"
    }
   ],
   "source": [
    "# Draw a number at random from the normal distribution.\n",
    "F.rvs()"
   ]
  },
  {
   "cell_type": "code",
   "execution_count": 3,
   "metadata": {},
   "outputs": [
    {
     "data": {
      "text/plain": [
       "array([0.44708986, 1.20502796])"
      ]
     },
     "execution_count": 3,
     "metadata": {},
     "output_type": "execute_result"
    }
   ],
   "source": [
    "# Specifying a size returns a numpy.ndarray.\n",
    "F.rvs(size=2)"
   ]
  },
  {
   "cell_type": "code",
   "execution_count": 4,
   "metadata": {},
   "outputs": [
    {
     "data": {
      "text/plain": [
       "<matplotlib.figure.Figure at 0x10c846c88>"
      ]
     },
     "metadata": {},
     "output_type": "display_data"
    }
   ],
   "source": [
    "from matplotlib import pyplot as plt\n",
    "# Create a linspace for our graph.\n",
    "X = np.linspace(-4, 4, 100)\n",
    "# Use the normal distribution created previously.\n",
    "plt.plot(X, F.pdf(X))\n",
    "plt.show()"
   ]
  },
  {
   "cell_type": "code",
   "execution_count": 5,
   "metadata": {},
   "outputs": [
    {
     "data": {
      "text/plain": [
       "0.0013498980316301035"
      ]
     },
     "execution_count": 5,
     "metadata": {},
     "output_type": "execute_result"
    }
   ],
   "source": [
    "# Choose the importance distribution with mean 4 and std dev 1\n",
    "G = stats.norm(loc=4, scale=1)\n",
    "g = G.pdf                   # Equation for importance distribution\n",
    "sampler = G.rvs             # Samples from importance distribution\n",
    "\n",
    "1 - stats.norm.cdf(3)"
   ]
  },
  {
   "cell_type": "code",
   "execution_count": 6,
   "metadata": {},
   "outputs": [
    {
     "data": {
      "text/plain": [
       "0.05854983152431917"
      ]
     },
     "execution_count": 6,
     "metadata": {},
     "output_type": "execute_result"
    }
   ],
   "source": [
    "# Create the gamma distribution object with a = 9, theta = .5\n",
    "F = stats.gamma(a=9, scale=.5)\n",
    "\n",
    "# Create a 2-dim multivariate normal object with a zero vector mean and cov matrix I\n",
    "F = stats.multivariate_normal(mean=np.zeros(2), cov=np.eye(2))\n",
    "F.pdf(np.array([1,1]))"
   ]
  },
  {
   "cell_type": "code",
   "execution_count": 7,
   "metadata": {},
   "outputs": [
    {
     "data": {
      "text/plain": [
       "array([[ 0.06329161,  1.35241089],\n",
       "       [-0.28890177, -0.11085229],\n",
       "       [-1.39055316,  0.3168895 ]])"
      ]
     },
     "execution_count": 7,
     "metadata": {},
     "output_type": "execute_result"
    }
   ],
   "source": [
    "F.rvs(size=3)"
   ]
  },
  {
   "cell_type": "markdown",
   "metadata": {},
   "source": [
    "# 13. Visualizing Complex-valued Functions"
   ]
  },
  {
   "cell_type": "code",
   "execution_count": 33,
   "metadata": {},
   "outputs": [
    {
     "name": "stdout",
     "output_type": "stream",
     "text": [
      "2.8284271247461903 -0.7853981633974483\n"
     ]
    }
   ],
   "source": [
    "import numpy as np\n",
    "\n",
    "z = 2 - 2*1j                    # 1j is the imaginary unit i = sqrt(-1).\n",
    "r, theta = np.abs(z), np.angle(z)\n",
    "print(r, theta)                 # The angle is between -pi and pi."
   ]
  },
  {
   "cell_type": "code",
   "execution_count": 34,
   "metadata": {},
   "outputs": [
    {
     "data": {
      "text/plain": [
       "True"
      ]
     },
     "execution_count": 34,
     "metadata": {},
     "output_type": "execute_result"
    }
   ],
   "source": [
    "# Check that z = r * e^(i*theta)\n",
    "np.isclose(z, r*np.exp(1j*theta))"
   ]
  },
  {
   "cell_type": "code",
   "execution_count": 35,
   "metadata": {},
   "outputs": [
    {
     "data": {
      "text/plain": [
       "array([0.        , 2.23606798, 4.47213595, 6.70820393, 8.94427191])"
      ]
     },
     "execution_count": 35,
     "metadata": {},
     "output_type": "execute_result"
    }
   ],
   "source": [
    "# These function also work on entire arrays.\n",
    "np.abs(np.arange(5) + 2j*np.arange(5))"
   ]
  },
  {
   "cell_type": "code",
   "execution_count": 36,
   "metadata": {},
   "outputs": [
    {
     "ename": "ImportError",
     "evalue": "cannot import name 'mpmath'",
     "output_type": "error",
     "traceback": [
      "\u001b[0;31m---------------------------------------------------------------------------\u001b[0m",
      "\u001b[0;31mImportError\u001b[0m                               Traceback (most recent call last)",
      "\u001b[0;32m<ipython-input-36-cb58e11a8d0d>\u001b[0m in \u001b[0;36m<module>\u001b[0;34m()\u001b[0m\n\u001b[1;32m      4\u001b[0m \u001b[0mZ\u001b[0m \u001b[0;34m=\u001b[0m \u001b[0mX\u001b[0m \u001b[0;34m+\u001b[0m \u001b[0;36m1j\u001b[0m\u001b[0;34m*\u001b[0m\u001b[0mY\u001b[0m                    \u001b[0;31m# Combine the grids into a complex array.\u001b[0m\u001b[0;34m\u001b[0m\u001b[0m\n\u001b[1;32m      5\u001b[0m \u001b[0;34m\u001b[0m\u001b[0m\n\u001b[0;32m----> 6\u001b[0;31m \u001b[0;32mfrom\u001b[0m \u001b[0msympy\u001b[0m \u001b[0;32mimport\u001b[0m \u001b[0mmpmath\u001b[0m \u001b[0;32mas\u001b[0m \u001b[0mmp\u001b[0m\u001b[0;34m\u001b[0m\u001b[0m\n\u001b[0m\u001b[1;32m      7\u001b[0m \u001b[0mmp\u001b[0m\u001b[0;34m.\u001b[0m\u001b[0mquad\u001b[0m\u001b[0;34m(\u001b[0m\u001b[0;32mlambda\u001b[0m \u001b[0mz\u001b[0m\u001b[0;34m:\u001b[0m \u001b[0mmp\u001b[0m\u001b[0;34m.\u001b[0m\u001b[0mexp\u001b[0m\u001b[0;34m(\u001b[0m\u001b[0mz\u001b[0m\u001b[0;34m)\u001b[0m\u001b[0;34m,\u001b[0m \u001b[0;34m(\u001b[0m\u001b[0mcomplex\u001b[0m\u001b[0;34m(\u001b[0m\u001b[0;34m-\u001b[0m\u001b[0;36m1\u001b[0m\u001b[0;34m,\u001b[0m \u001b[0;34m-\u001b[0m\u001b[0;36m1\u001b[0m\u001b[0;34m)\u001b[0m\u001b[0;34m,\u001b[0m \u001b[0mcomplex\u001b[0m\u001b[0;34m(\u001b[0m\u001b[0;36m1\u001b[0m\u001b[0;34m,\u001b[0m \u001b[0;36m1\u001b[0m\u001b[0;34m)\u001b[0m\u001b[0;34m)\u001b[0m\u001b[0;34m)\u001b[0m\u001b[0;34m\u001b[0m\u001b[0m\n",
      "\u001b[0;31mImportError\u001b[0m: cannot import name 'mpmath'"
     ]
    }
   ],
   "source": [
    "x = np.linspace(-1, 1, 400)     # Real domain.\n",
    "y = np.linspace(-1, 1, 400)     # Imaginary domain.\n",
    "X, Y = np.meshgrid(x, y)        # Make grid matrices.\n",
    "Z = X + 1j*Y                    # Combine the grids into a complex array.\n",
    "\n",
    "from sympy import mpmath as mp\n",
    "mp.quad(lambda z: mp.exp(z), (complex(-1, -1), complex(1, 1)))"
   ]
  },
  {
   "cell_type": "code",
   "execution_count": 37,
   "metadata": {},
   "outputs": [
    {
     "name": "stderr",
     "output_type": "stream",
     "text": [
      "/Users/david/anaconda3/lib/python3.6/site-packages/ipykernel_launcher.py:38: RuntimeWarning: divide by zero encountered in true_divide\n",
      "/Users/david/anaconda3/lib/python3.6/site-packages/ipykernel_launcher.py:38: RuntimeWarning: invalid value encountered in true_divide\n"
     ]
    },
    {
     "data": {
      "image/png": "[encoded data removed]",
      "text/plain": [
       "<matplotlib.figure.Figure at 0x11ea89390>"
      ]
     },
     "metadata": {},
     "output_type": "display_data"
    }
   ],
   "source": [
    "import numpy as np\n",
    "import matplotlib.pyplot as plt\n",
    "from colorsys import hls_to_rgb\n",
    "\n",
    "def colorize(z):\n",
    "    '''\n",
    "    Map a complex number to a color (or hue) and lightness.\n",
    "\n",
    "    INPUT:\n",
    "    z - an array of complex numbers in rectangular coordinates\n",
    "\n",
    "    OUTPUT:\n",
    "    If z is an n x m array, return an n x m x 3 array whose third axis encodes\n",
    "    (hue, lightness, saturation) tuples for each entry in z. This new array can\n",
    "    be plotted by plt.imshow().\n",
    "    '''\n",
    "\n",
    "    zy=np.flipud(z)\n",
    "    r = np.abs(zy)\n",
    "    arg = np.angle(zy)\n",
    "\n",
    "    # Define hue (h), lightness (l), and saturation (s)\n",
    "    # Saturation is constant in our visualizations\n",
    "    h = (arg + np.pi)  / (2 * np.pi) + 0.5\n",
    "    l = 1.0 - 1.0/(1.0 + r**0.3)\n",
    "    s = 0.8\n",
    "\n",
    "    # Convert the HLS values to RGB values.\n",
    "    # This operation returns a tuple of shape (3,n,m).\n",
    "    c = np.vectorize(hls_to_rgb) (h,l,s)\n",
    "\n",
    "    # Convert c to an array and change the shape to (n,m,3)\n",
    "    c = np.array(c)\n",
    "    c = c.swapaxes(0,2)\n",
    "    c = c.swapaxes(0,1)\n",
    "    return c\n",
    "\n",
    "f = lambda z :  (z**2-1)/z\n",
    "x = np.linspace(-.5, 1.5, 401)\n",
    "y = np.linspace(-1, 1, 401)\n",
    "X,Y = np.meshgrid(x,y)\n",
    "Z=f(X+Y*1j)\n",
    "Zc=colorize(Z)\n",
    "plt.imshow(Zc, extent=(-.5, 1.5, -1, 1))\n",
    "plt.show()"
   ]
  },
  {
   "cell_type": "markdown",
   "metadata": {},
   "source": [
    "# 14. The PageRank Algorithm"
   ]
  },
  {
   "cell_type": "code",
   "execution_count": null,
   "metadata": {},
   "outputs": [],
   "source": [
    "\n",
    "A = np.array([[ 0,  0,  0,  0,  0,  0,  0,  1],\n",
    "              [ 1,  0,  0,  0,  0,  0,  0,  0],\n",
    "              [ 0,  0,  0,  0,  0,  0,  0,  0],\n",
    "              [ 1,  0,  1,  0,  0,  0,  1,  0],\n",
    "              [ 1,  0,  0,  0,  0,  1,  1,  0],\n",
    "              [ 1,  0,  0,  0,  0,  0,  1,  0],\n",
    "              [ 1,  0,  0,  0,  0,  0,  0,  0],\n",
    "              [ 1,  0,  0,  0,  0,  0,  0,  0]])\n",
    "\n",
    "def to_matrix( filename, n ):\n",
    "    ''' Return the nxn adjacency matrix described by the file.\n",
    "\n",
    "    INPUTS:\n",
    "    filename - Name of a .txt file describing a directed graph. Lines\n",
    "            describing edges should have the form\n",
    "        '<from node>\\t<to node>'.\n",
    "        The file may also include comments.\n",
    "    n   - The number of nodes in the graph described by datafile\n",
    "\n",
    "    RETURN:\n",
    "    Return a NumPy array.\n",
    "    '''\n",
    "\n",
    "# Open `matrix.txt' for read-only\n",
    "with open('./matrix.txt', 'r') as myfile:\n",
    "    for line in myfile:\n",
    "        print line\n",
    "\n",
    "line = '0\\t4\\n'\n",
    "# strip() removes trailing whitespace from a line.\n",
    "# split() returns a list of the space-separated pieces of the line.\n",
    "line.strip().split()\n",
    "\n",
    "Am = np.array([[ 0,  0,  0,  0,  0,  0,  0,  1],\n",
    "               [ 1,  0,  0,  0,  0,  0,  0,  0],\n",
    "               [ 1,  1,  1,  1,  1,  1,  1,  1],\n",
    "               [ 1,  0,  1,  0,  0,  0,  1,  0],\n",
    "               [ 1,  0,  0,  0,  0,  1,  1,  0],\n",
    "               [ 1,  0,  0,  0,  0,  0,  1,  0],\n",
    "               [ 1,  0,  0,  0,  0,  0,  0,  0],\n",
    "               [ 1,  0,  0,  0,  0,  0,  0,  0]])\n",
    "\n",
    "K = np.array([[ 0   ,  1   ,  1./8,  1./3,  1./3,  1./2,  1   ,  1   ],\n",
    "              [ 0   ,  0   ,  1./8,  0   ,  0   ,  0   ,  0   ,  0   ],\n",
    "              [ 0   ,  0   ,  1./8,  1./3,  0   ,  0   ,  0   ,  0   ],\n",
    "              [ 0   ,  0   ,  1./8,  0   ,  0   ,  0   ,  0   ,  0   ],\n",
    "              [ 0   ,  0   ,  1./8,  0   ,  0   ,  0   ,  0   ,  0   ],\n",
    "              [ 0   ,  0   ,  1./8,  0   ,  1./3,  0   ,  0   ,  0   ],\n",
    "              [ 0   ,  0   ,  1./8,  1./3,  1./3,  1./2,  0   ,  0   ],\n",
    "              [ 1   ,  0   ,  1./8,  0   ,  0   ,  0   ,  0   ,  0   ]])\n",
    "\n",
    "from scipy import linalg as la\n",
    "I = np.eye(8)\n",
    "d = .85\n",
    "la.solve(I-d*K, ((1-d)/8)*np.ones(8))\n",
    "\n",
    "def iter_solve( adj, N=None, d=.85, tol=1E-5):\n",
    "    '''\n",
    "    Return the page ranks of the network described by 'adj' using the iterative method.\n",
    "\n",
    "    INPUTS:\n",
    "    adj - A NumPy array representing the adjacency matrix of a directed\n",
    "            graph\n",
    "    N     - Restrict the computation to the first `N` nodes of the graph.\n",
    "            Defaults to N=None; in this case, the entire matrix is used.\n",
    "    d     - The damping factor, a float between 0 and 1.\n",
    "            Defaults to .85.\n",
    "    tol  - Stop iterating when the change in approximations to the\n",
    "            solution is less than `tol'. Defaults to 1E-5.\n",
    "\n",
    "    OUTPUTS:\n",
    "    Return the approximation to the steady state of p.\n",
    "    '''\n",
    "\n",
    "def eig_solve( adj, N=None, d=.85):\n",
    "    '''\n",
    "    Return the page ranks of the network described by `adj`.\n",
    "\n",
    "    INPUTS:\n",
    "    adj - A NumPy array representing the adjacency matrix of a directed\n",
    "            graph\n",
    "    N     - Restrict the computation to the first `N` nodes of the graph.\n",
    "            Defaults to N=None; in this case, the entire matrix is used.\n",
    "    d     - The damping factor, a float between 0 and 1.\n",
    "            Defaults to .85.\n",
    "\n",
    "    OUTPUTS:\n",
    "    Return the approximation to the steady state of p.\n",
    "    '''\n",
    "\n",
    "with open('./ncaa2013.csv', 'r') as ncaafile:\n",
    "    ncaafile.readline() #reads and ignores the header line\n",
    "    for line in ncaafile:\n",
    "        teams = line.strip().split(',') #split on commas\n",
    "        print teams\n",
    "\n",
    "edges = array([[ 0,  7],\n",
    "[ 1,  0],\n",
    "[ 3,  0],\n",
    "[ 3,  6],\n",
    "[ 4,  0],\n",
    "[ 4,  5],\n",
    "[ 4,  6],\n",
    "[ 5,  0],\n",
    "[ 5,  6],\n",
    "[ 6,  0],\n",
    "[ 7,  0]])\n",
    "\n",
    "import networkx as nx\n",
    "G = nx.from_edgelist(edges, create_using=nx.DiGraph())\n",
    "G.in_degree()\n",
    "G.out_degree()\n",
    "G.in_edges(0)\n",
    "G.out_edges(0)\n",
    "\n",
    "nx.pagerank(G, alpha=0.85) # alpha is the dampening factor.\n"
   ]
  },
  {
   "cell_type": "markdown",
   "metadata": {},
   "source": [
    "# 15. The Drazin Inverse"
   ]
  },
  {
   "cell_type": "code",
   "execution_count": 46,
   "metadata": {},
   "outputs": [
    {
     "data": {
      "text/plain": [
       "array([[ 2., -3.,  6.],\n",
       "       [ 0.,  0.,  2.],\n",
       "       [ 0.,  0.,  1.]])"
      ]
     },
     "execution_count": 46,
     "metadata": {},
     "output_type": "execute_result"
    }
   ],
   "source": [
    "from scipy import linalg as la\n",
    "\n",
    "# The standard Schur decomposition.\n",
    "A = np.array([[0,0,2],[-3,2,6],[0,0,1]])\n",
    "T,Z = la.schur(A)\n",
    "T                       # The eigenvalues (2, 0, and 1) are not sorted."
   ]
  },
  {
   "cell_type": "code",
   "execution_count": 47,
   "metadata": {},
   "outputs": [
    {
     "data": {
      "text/plain": [
       "array([[2.        , 0.        , 6.70820393],\n",
       "       [0.        , 1.        , 2.        ],\n",
       "       [0.        , 0.        , 0.        ]])"
      ]
     },
     "execution_count": 47,
     "metadata": {},
     "output_type": "execute_result"
    }
   ],
   "source": [
    "# Specify a sorting function to get the desired result.\n",
    "f = lambda x: abs(x) > 0\n",
    "T1,Z1,k = la.schur(A, sort=f)\n",
    "T1"
   ]
  },
  {
   "cell_type": "code",
   "execution_count": 48,
   "metadata": {},
   "outputs": [
    {
     "data": {
      "text/plain": [
       "2"
      ]
     },
     "execution_count": 48,
     "metadata": {},
     "output_type": "execute_result"
    }
   ],
   "source": [
    "k    # k is the number of columns satisfying the sort,\n",
    "     # which is the number of nonzero eigenvalues."
   ]
  },
  {
   "cell_type": "code",
   "execution_count": 49,
   "metadata": {},
   "outputs": [
    {
     "data": {
      "text/plain": [
       "array([[-5,  1,  2],\n",
       "       [-9,  0, -5],\n",
       "       [ 0, -5, -3]])"
      ]
     },
     "execution_count": 49,
     "metadata": {},
     "output_type": "execute_result"
    }
   ],
   "source": [
    "A = np.random.randint(-9,9,(3,3))\n",
    "A"
   ]
  },
  {
   "cell_type": "code",
   "execution_count": 50,
   "metadata": {},
   "outputs": [
    {
     "data": {
      "text/plain": [
       "-9"
      ]
     },
     "execution_count": 50,
     "metadata": {},
     "output_type": "execute_result"
    }
   ],
   "source": [
    "# Find the minimum value in the array.\n",
    "minval = np.min(A)\n",
    "minval"
   ]
  },
  {
   "cell_type": "code",
   "execution_count": 51,
   "metadata": {},
   "outputs": [
    {
     "data": {
      "text/plain": [
       "(array([1]), array([0]))"
      ]
     },
     "execution_count": 51,
     "metadata": {},
     "output_type": "execute_result"
    }
   ],
   "source": [
    "# Find the location of the minimum value.\n",
    "loc = np.where(A==minval)\n",
    "loc"
   ]
  },
  {
   "cell_type": "markdown",
   "metadata": {},
   "source": [
    "# 16. Iterative Solvers"
   ]
  },
  {
   "cell_type": "code",
   "execution_count": null,
   "metadata": {},
   "outputs": [],
   "source": [
    "import numpy as np\n",
    "\n",
    "D = np.array([[2,0],[0,16]])    # Let D be a diagonal matrix.\n",
    "d = np.diag(D)                  # Extract the diagonal as a 1-D array.\n",
    "x = np.random.random(2)\n",
    "np.allclose(D.dot(x), d*x)"
   ]
  },
  {
   "cell_type": "code",
   "execution_count": null,
   "metadata": {},
   "outputs": [],
   "source": [
    "% from scipy import linalg as la\n",
    "%\n",
    "% x = np.random.random(10)\n",
    "% la.norm(x, <<ord>>=np.inf)          # Use la.norm() for ||x||.\n",
    "% 0.74623726404168045\n",
    "% np.<<max>>(np.<<abs>>(x))               # The equivalent in NumPy for ||x||.\n",
    "% 0.74623726404168045\n",
    "% "
   ]
  },
  {
   "cell_type": "code",
   "execution_count": null,
   "metadata": {},
   "outputs": [],
   "source": [
    "def diag_dom(n, num_entries=None):\n",
    "    \"\"\"Generate a strictly diagonally dominant (n, n) matrix.\n",
    "    Parameters:\n",
    "        n (int): The dimension of the system.\n",
    "        num_entries (int): The number of nonzero values.\n",
    "            Defaults to n^(3/2)-n.\n",
    "    Returns:\n",
    "        A ((n,n) ndarray): A (n, n) strictly diagonally dominant matrix.\n",
    "    \"\"\"\n",
    "    if num_entries is None:\n",
    "        num_entries = int(n**1.5) - n\n",
    "    A = np.zeros((n,n))\n",
    "    rows = np.random.choice(np.arange(0,n), size=num_entries)\n",
    "    cols = np.random.choice(np.arange(0,n), size=num_entries)\n",
    "    data = np.random.randint(-4, 4, size=num_entries)\n",
    "    for i in range(num_entries):\n",
    "        A[rows[i], cols[i]] = data[i]\n",
    "    for i in range(n):\n",
    "        A[i,i] = np.<<sum>>(np.<<abs>>(A[i])) + 1\n",
    "    return A\n",
    "\n",
    "x0 = np.random.random(5)        # Generate a random vector.\n",
    "x1 = x0                         # Attempt to make a copy.\n",
    "x1[3] = 1000                    # Modify the \"copy\" in place.\n",
    "np.allclose(x0, x1)             # But x0 was also changed!"
   ]
  },
  {
   "cell_type": "code",
   "execution_count": null,
   "metadata": {},
   "outputs": [],
   "source": [
    "# Instead, make a copy of x0 when creating x1.\n",
    "x0 = np.copy(x1)                # Make a copy.\n",
    "x1[3] = -1000\n",
    "np.allclose(x0, x1)"
   ]
  },
  {
   "cell_type": "code",
   "execution_count": null,
   "metadata": {},
   "outputs": [],
   "source": [
    "# Get the indices of where the i-th row of A starts and ends if the\n",
    "# nonzero entries of A were flattened.\n",
    "rowstart = A.indptr[i]\n",
    "rowend = A.indptr[i+1]\n",
    "\n",
    "# Multiply only the nonzero elements of the i-th row of A with the\n",
    "# corresponding elements of x.\n",
    "Aix = A.data[rowstart:rowend] @ x[A.indices[rowstart:rowend]]"
   ]
  },
  {
   "cell_type": "code",
   "execution_count": null,
   "metadata": {},
   "outputs": [],
   "source": [
    "from scipy import sparse\n",
    "\n",
    "A = sparse.csr_matrix(diag_dom(50000))\n",
    "b = np.random.random(50000)"
   ]
  },
  {
   "cell_type": "code",
   "execution_count": null,
   "metadata": {},
   "outputs": [],
   "source": [
    "from matplotlib import pyplot as plt\n",
    "import numpy as np\n",
    "\n",
    "n = 100\n",
    "A,b = finite_difference(n)\n",
    "x = sparse_sor(A,b,1.9,maxiters=10000,tol=10**-2)\n",
    "U = x.reshape((n,n))\n",
    "x,y = np.linspace(0,10,n), np.linspace(0,10,n)\n",
    "X,Y = np.meshgrid(x,y)\n",
    "\n",
    "plt.pcolormesh(X,Y,U,cmap='coolwarm')\n",
    "plt.show()"
   ]
  },
  {
   "cell_type": "code",
   "execution_count": null,
   "metadata": {},
   "outputs": [],
   "source": [
    "from matplotlib import pyplot as plt\n",
    "\n",
    "def jacobi(n=100, tol=1e-8):\n",
    "\n",
    "    # Perform the algorithm, storing the result in the array 'U'.\n",
    "\n",
    "    # Visualize the results.\n",
    "    plt.imshow(U)\n",
    "    plt.show()"
   ]
  },
  {
   "cell_type": "markdown",
   "metadata": {},
   "source": [
    "# 17. The Arnoldi Iteration"
   ]
  },
  {
   "cell_type": "code",
   "execution_count": null,
   "metadata": {},
   "outputs": [],
   "source": [
    "b = A.conj() @ B"
   ]
  },
  {
   "cell_type": "code",
   "execution_count": null,
   "metadata": {},
   "outputs": [],
   "source": [
    "from scipy.sparse import linalg as spla\n",
    "B = np.random.random((100,100))\n",
    "spla.eigs(B, k=5, return_eigenvectors=false)\n",
    "\n",
    "# Evaluate the eigenvalues\n",
    "eigvalues = la.eig(A)[0]\n",
    "# Sort them from greatest to least (use np.abs to account for complex parts)\n",
    "eigvalues = eigvalues[np.sort(np.<<abs>>(eigvalues))[::-1]]\n",
    "\n",
    "errors[errors > 10] = 10.\n",
    "\n",
    "A = np.random.rand(300, 300)\n",
    "plot_ritz(a, 10, 175)\n",
    "\n",
    "# A matrix with uniformly distributed eigenvalues\n",
    "d = np.diag(np.random.rand(300))\n",
    "B = A @ d @ la.inv(A)\n",
    "plot_ritz(B, 10, 175)\n",
    "\n",
    "def companion_multiply(c, u):\n",
    "    v = np.empty_like(u)\n",
    "    v[0] = - c[0] * u[-1]\n",
    "    v[1:] = u[:-1] - c[1:] * u[-1]\n",
    "    return v\n",
    "\n",
    "p = np.poly1d([1] + list(c[::-1]))\n",
    "roots = p.roots\n",
    "# Now sort by absolute value from largest to smallest\n",
    "roots = roots[np.<<abs>>(roots).argsort()][::-1]\n",
    "\n",
    "def lanczos(b, L, k, tol=1E-8):\n",
    "    '''Perform `k' steps of the Lanczos iteration on the symmetric linear\n",
    "    operator defined by `L', starting with the vector 'b'.\n",
    "\n",
    "    INPUTS:\n",
    "    b    - A NumPy array. The starting vector for the Lanczos iteration.\n",
    "    L - A function handle. Should describe a symmetric linear operator.\n",
    "    k    - Number of times to perform the Lanczos iteration.\n",
    "    tol  - Stop iterating if the next vector in the Lanczos iteration has\n",
    "          norm less than `tol'. Defaults to 1E-8.\n",
    "\n",
    "    RETURN:\n",
    "    Return (alpha, beta) where alpha and beta are the main diagonal and\n",
    "    first subdiagonal of the tridiagonal matrix computed by the Lanczos\n",
    "    iteration.\n",
    "    '''\n",
    "\n",
    "def tri_mul(a, b, u):\n",
    "   ''' Return Au where A is the tridiagonal symmetric matrix with main\n",
    "   diagonal a and subdiagonal b.\n",
    "   '''\n",
    "    v = a * u\n",
    "    v[:-1] += b * u[1:]\n",
    "    v[1:] += b * u[:-1]\n",
    "    return v"
   ]
  },
  {
   "cell_type": "markdown",
   "metadata": {},
   "source": [
    "# 18. GMRES"
   ]
  },
  {
   "cell_type": "code",
   "execution_count": 32,
   "metadata": {},
   "outputs": [
    {
     "ename": "NameError",
     "evalue": "name 'gmres' is not defined",
     "output_type": "error",
     "traceback": [
      "\u001b[0;31m---------------------------------------------------------------------------\u001b[0m",
      "\u001b[0;31mNameError\u001b[0m                                 Traceback (most recent call last)",
      "\u001b[0;32m<ipython-input-32-296002403f1c>\u001b[0m in \u001b[0;36m<module>\u001b[0;34m()\u001b[0m\n\u001b[1;32m      2\u001b[0m \u001b[0mb\u001b[0m \u001b[0;34m=\u001b[0m \u001b[0mnp\u001b[0m\u001b[0;34m.\u001b[0m\u001b[0marray\u001b[0m\u001b[0;34m(\u001b[0m\u001b[0;34m[\u001b[0m\u001b[0;36m1\u001b[0m\u001b[0;34m,\u001b[0m \u001b[0;36m4\u001b[0m\u001b[0;34m,\u001b[0m \u001b[0;36m6\u001b[0m\u001b[0;34m]\u001b[0m\u001b[0;34m)\u001b[0m\u001b[0;34m\u001b[0m\u001b[0m\n\u001b[1;32m      3\u001b[0m \u001b[0mx0\u001b[0m \u001b[0;34m=\u001b[0m \u001b[0mnp\u001b[0m\u001b[0;34m.\u001b[0m\u001b[0mzeros\u001b[0m\u001b[0;34m(\u001b[0m\u001b[0mb\u001b[0m\u001b[0;34m.\u001b[0m\u001b[0msize\u001b[0m\u001b[0;34m)\u001b[0m\u001b[0;34m\u001b[0m\u001b[0m\n\u001b[0;32m----> 4\u001b[0;31m \u001b[0mgmres\u001b[0m\u001b[0;34m(\u001b[0m\u001b[0mA\u001b[0m\u001b[0;34m,\u001b[0m \u001b[0mb\u001b[0m\u001b[0;34m,\u001b[0m \u001b[0mx0\u001b[0m\u001b[0;34m,\u001b[0m \u001b[0mk\u001b[0m\u001b[0;34m=\u001b[0m\u001b[0;36m100\u001b[0m\u001b[0;34m,\u001b[0m \u001b[0mtol\u001b[0m\u001b[0;34m=\u001b[0m\u001b[0;36m1e-8\u001b[0m\u001b[0;34m)\u001b[0m\u001b[0;34m\u001b[0m\u001b[0m\n\u001b[0m",
      "\u001b[0;31mNameError\u001b[0m: name 'gmres' is not defined"
     ]
    }
   ],
   "source": [
    "A = np.array([[1,0,0],[0,2,0],[0,0,3]])\n",
    "b = np.array([1, 4, 6])\n",
    "x0 = np.zeros(b.size)\n",
    "gmres(A, b, x0, k=100, tol=1e-8)"
   ]
  },
  {
   "cell_type": "code",
   "execution_count": null,
   "metadata": {},
   "outputs": [],
   "source": [
    "import numpy as np\n",
    "from scipy import sparse\n",
    "from scipy.sparse import linalg as spla\n",
    "\n",
    "A = np.random.rand(300, 300)\n",
    "b = np.random(300)\n",
    "x, info = spla.gmres(A, b)\n",
    "print(info)"
   ]
  },
  {
   "cell_type": "code",
   "execution_count": null,
   "metadata": {},
   "outputs": [],
   "source": [
    "la.norm((A @ x) - b)"
   ]
  },
  {
   "cell_type": "code",
   "execution_count": null,
   "metadata": {},
   "outputs": [],
   "source": [
    "# Restart after 1000 iterations.\n",
    "x, info = spla.gmres(A, b, restart=1000)\n",
    "info"
   ]
  },
  {
   "cell_type": "code",
   "execution_count": null,
   "metadata": {},
   "outputs": [],
   "source": [
    "la.norm((A @ x) - b)"
   ]
  },
  {
   "cell_type": "markdown",
   "metadata": {},
   "source": [
    "# Appendix"
   ]
  },
  {
   "cell_type": "code",
   "execution_count": 52,
   "metadata": {},
   "outputs": [
    {
     "ename": "ModuleNotFoundError",
     "evalue": "No module named 'joblib'",
     "output_type": "error",
     "traceback": [
      "\u001b[0;31m---------------------------------------------------------------------------\u001b[0m",
      "\u001b[0;31mModuleNotFoundError\u001b[0m                       Traceback (most recent call last)",
      "\u001b[0;32m<ipython-input-52-24abf02ecacc>\u001b[0m in \u001b[0;36m<module>\u001b[0;34m()\u001b[0m\n\u001b[0;32m----> 1\u001b[0;31m \u001b[0;32mfrom\u001b[0m \u001b[0mjoblib\u001b[0m \u001b[0;32mimport\u001b[0m \u001b[0mMemory\u001b[0m\u001b[0;34m\u001b[0m\u001b[0m\n\u001b[0m",
      "\u001b[0;31mModuleNotFoundError\u001b[0m: No module named 'joblib'"
     ]
    }
   ],
   "source": [
    "from joblib import Memory"
   ]
  },
  {
   "cell_type": "code",
   "execution_count": null,
   "metadata": {},
   "outputs": [],
   "source": []
  }
 ],
 "metadata": {
  "kernelspec": {
   "display_name": "Python 3",
   "language": "python",
   "name": "python3"
  },
  "language_info": {
   "codemirror_mode": {
    "name": "ipython",
    "version": 3
   },
   "file_extension": ".py",
   "mimetype": "text/x-python",
   "name": "python",
   "nbconvert_exporter": "python",
   "pygments_lexer": "ipython3",
   "version": "3.6.4"
  }
 },
 "nbformat": 4,
 "nbformat_minor": 2
}
