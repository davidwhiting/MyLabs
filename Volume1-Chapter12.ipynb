{
 "cells": [
  {
   "cell_type": "markdown",
   "metadata": {},
   "source": [
    "# _Foundations of Applied Mathematics_ Labs: Volume 1"
   ]
  },
  {
   "cell_type": "code",
   "execution_count": 1,
   "metadata": {},
   "outputs": [],
   "source": [
    "%matplotlib inline"
   ]
  },
  {
   "cell_type": "markdown",
   "metadata": {},
   "source": [
    "# 12. Importance Sampling"
   ]
  },
  {
   "cell_type": "code",
   "execution_count": 1,
   "metadata": {},
   "outputs": [
    {
     "data": {
      "text/plain": [
       "0.24197072451914337"
      ]
     },
     "execution_count": 1,
     "metadata": {},
     "output_type": "execute_result"
    }
   ],
   "source": [
    "from scipy import stats\n",
    "import numpy as np\n",
    "\n",
    "# Create an object for the standard normal distribution.\n",
    "F = stats.norm()\n",
    "# loc is the mean and scale is the standard deviation.\n",
    "G = stats.norm(loc=3, scale=2)\n",
    "\n",
    "# Calculate the probability of drawing a 1 from the normal distribution.\n",
    "F.pdf(1)"
   ]
  },
  {
   "cell_type": "code",
   "execution_count": 2,
   "metadata": {},
   "outputs": [
    {
     "data": {
      "text/plain": [
       "0.26221327268838235"
      ]
     },
     "execution_count": 2,
     "metadata": {},
     "output_type": "execute_result"
    }
   ],
   "source": [
    "# Draw a number at random from the normal distribution.\n",
    "F.rvs()"
   ]
  },
  {
   "cell_type": "code",
   "execution_count": 3,
   "metadata": {},
   "outputs": [
    {
     "data": {
      "text/plain": [
       "array([0.44708986, 1.20502796])"
      ]
     },
     "execution_count": 3,
     "metadata": {},
     "output_type": "execute_result"
    }
   ],
   "source": [
    "# Specifying a size returns a numpy.ndarray.\n",
    "F.rvs(size=2)"
   ]
  },
  {
   "cell_type": "code",
   "execution_count": 4,
   "metadata": {},
   "outputs": [
    {
     "data": {
      "text/plain": [
       "<matplotlib.figure.Figure at 0x10c846c88>"
      ]
     },
     "metadata": {},
     "output_type": "display_data"
    }
   ],
   "source": [
    "from matplotlib import pyplot as plt\n",
    "# Create a linspace for our graph.\n",
    "X = np.linspace(-4, 4, 100)\n",
    "# Use the normal distribution created previously.\n",
    "plt.plot(X, F.pdf(X))\n",
    "plt.show()"
   ]
  },
  {
   "cell_type": "code",
   "execution_count": 5,
   "metadata": {},
   "outputs": [
    {
     "data": {
      "text/plain": [
       "0.0013498980316301035"
      ]
     },
     "execution_count": 5,
     "metadata": {},
     "output_type": "execute_result"
    }
   ],
   "source": [
    "# Choose the importance distribution with mean 4 and std dev 1\n",
    "G = stats.norm(loc=4, scale=1)\n",
    "g = G.pdf                   # Equation for importance distribution\n",
    "sampler = G.rvs             # Samples from importance distribution\n",
    "\n",
    "1 - stats.norm.cdf(3)"
   ]
  },
  {
   "cell_type": "code",
   "execution_count": 6,
   "metadata": {},
   "outputs": [
    {
     "data": {
      "text/plain": [
       "0.05854983152431917"
      ]
     },
     "execution_count": 6,
     "metadata": {},
     "output_type": "execute_result"
    }
   ],
   "source": [
    "# Create the gamma distribution object with a = 9, theta = .5\n",
    "F = stats.gamma(a=9, scale=.5)\n",
    "\n",
    "# Create a 2-dim multivariate normal object with a zero vector mean and cov matrix I\n",
    "F = stats.multivariate_normal(mean=np.zeros(2), cov=np.eye(2))\n",
    "F.pdf(np.array([1,1]))"
   ]
  },
  {
   "cell_type": "code",
   "execution_count": 7,
   "metadata": {},
   "outputs": [
    {
     "data": {
      "text/plain": [
       "array([[ 0.06329161,  1.35241089],\n",
       "       [-0.28890177, -0.11085229],\n",
       "       [-1.39055316,  0.3168895 ]])"
      ]
     },
     "execution_count": 7,
     "metadata": {},
     "output_type": "execute_result"
    }
   ],
   "source": [
    "F.rvs(size=3)"
   ]
  }
 ],
 "metadata": {
  "kernelspec": {
   "display_name": "Python 3",
   "language": "python",
   "name": "python3"
  },
  "language_info": {
   "codemirror_mode": {
    "name": "ipython",
    "version": 3
   },
   "file_extension": ".py",
   "mimetype": "text/x-python",
   "name": "python",
   "nbconvert_exporter": "python",
   "pygments_lexer": "ipython3",
   "version": "3.6.4"
  }
 },
 "nbformat": 4,
 "nbformat_minor": 2
}
