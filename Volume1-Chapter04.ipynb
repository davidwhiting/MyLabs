{
 "cells": [
  {
   "cell_type": "markdown",
   "metadata": {},
   "source": [
    "# _Foundations of Applied Mathematics_ Labs: Volume 1"
   ]
  },
  {
   "cell_type": "code",
   "execution_count": 1,
   "metadata": {},
   "outputs": [],
   "source": [
    "%matplotlib inline"
   ]
  },
  {
   "cell_type": "code",
   "execution_count": null,
   "metadata": {},
   "outputs": [],
   "source": [
    "import numpy as np\n",
    "from matplotlib import pyplot as plt\n",
    "from math import pi, cos, sin"
   ]
  },
  {
   "cell_type": "code",
   "execution_count": 25,
   "metadata": {},
   "outputs": [],
   "source": [
    "# May or may not be needed for Chapter 3\n",
    "import scipy as sp\n",
    "from scipy import stats         # Import stats explicitly. Access it\n",
    "from scipy import linalg as la\n",
    "from scipy import sparse\n",
    "\n",
    "from scipy.sparse import linalg as spla"
   ]
  },
  {
   "cell_type": "markdown",
   "metadata": {},
   "source": [
    "# 4. Least Squares and Computing Eigenvalues"
   ]
  },
  {
   "cell_type": "code",
   "execution_count": 30,
   "metadata": {},
   "outputs": [],
   "source": [
    "import numpy as np\n",
    "from scipy.stats import linregress\n",
    "\n",
    "# Generate some random data close to the line y = .5x - 3.\n",
    "x = np.linspace(0, 10, 20)\n",
    "y = .5*x - 3 + np.random.randn(20)\n",
    "\n",
    "# Use linregress() to calculate m and b, as well as the correlation\n",
    "# coefficient, p-value, and standard error. See the documentation for\n",
    "# details on each of these extra return values.\n",
    "a, b, rvalue, pvalue, stderr = linregress(x, y)"
   ]
  },
  {
   "cell_type": "code",
   "execution_count": 31,
   "metadata": {},
   "outputs": [
    {
     "data": {
      "text/plain": [
       "[<matplotlib.lines.Line2D at 0x1a18c0b6a0>]"
      ]
     },
     "execution_count": 31,
     "metadata": {},
     "output_type": "execute_result"
    },
    {
     "data": {
      "image/png": "[encoded data removed]",
      "text/plain": [
       "<matplotlib.figure.Figure at 0x1a18c8cef0>"
      ]
     },
     "metadata": {},
     "output_type": "display_data"
    }
   ],
   "source": [
    "plt.plot(x, y, 'k*', label=\"Data Points\")"
   ]
  },
  {
   "cell_type": "code",
   "execution_count": 34,
   "metadata": {},
   "outputs": [
    {
     "data": {
      "text/plain": [
       "[<matplotlib.lines.Line2D at 0x1a191a7160>]"
      ]
     },
     "execution_count": 34,
     "metadata": {},
     "output_type": "execute_result"
    },
    {
     "data": {
      "image/png": "[encoded data removed]",
      "text/plain": [
       "<matplotlib.figure.Figure at 0x1a18c15fd0>"
      ]
     },
     "metadata": {},
     "output_type": "display_data"
    }
   ],
   "source": [
    "plt.plot(x, a*x + b, label=\"Least Squares Fit\")"
   ]
  },
  {
   "cell_type": "code",
   "execution_count": 35,
   "metadata": {},
   "outputs": [
    {
     "name": "stderr",
     "output_type": "stream",
     "text": [
      "No handles with labels found to put in legend.\n"
     ]
    },
    {
     "data": {
      "text/plain": [
       "<matplotlib.legend.Legend at 0x1a1925fbe0>"
      ]
     },
     "execution_count": 35,
     "metadata": {},
     "output_type": "execute_result"
    },
    {
     "data": {
      "image/png": "[encoded data removed]",
      "text/plain": [
       "<matplotlib.figure.Figure at 0x1a191af5c0>"
      ]
     },
     "metadata": {},
     "output_type": "display_data"
    }
   ],
   "source": [
    "plt.legend(loc=\"upper left\")"
   ]
  },
  {
   "cell_type": "code",
   "execution_count": 36,
   "metadata": {},
   "outputs": [],
   "source": [
    "plt.show()"
   ]
  },
  {
   "cell_type": "code",
   "execution_count": 37,
   "metadata": {},
   "outputs": [
    {
     "name": "stdout",
     "output_type": "stream",
     "text": [
      "[[2 1]\n",
      " [3 1]\n",
      " [5 1]]\n"
     ]
    }
   ],
   "source": [
    "print(np.vander([2, 3, 5], 2))"
   ]
  },
  {
   "cell_type": "code",
   "execution_count": 38,
   "metadata": {},
   "outputs": [
    {
     "name": "stdout",
     "output_type": "stream",
     "text": [
      "[[ 4  2  1]\n",
      " [ 9  3  1]\n",
      " [25  5  1]\n",
      " [16  4  1]]\n"
     ]
    }
   ],
   "source": [
    "print(np.vander([2, 3, 5, 4], 3))"
   ]
  },
  {
   "cell_type": "code",
   "execution_count": 39,
   "metadata": {},
   "outputs": [
    {
     "name": "stdout",
     "output_type": "stream",
     "text": [
      "   2\n",
      "1 x - 3 x + 2\n"
     ]
    }
   ],
   "source": [
    "# Create a callable object for the polynomial f(x) = (x-1)(x-2) = x^2 - 3x + 2.\n",
    "f = np.poly1d([1, -3, 2])\n",
    "print(f)"
   ]
  },
  {
   "cell_type": "code",
   "execution_count": 40,
   "metadata": {},
   "outputs": [
    {
     "data": {
      "text/plain": [
       "array([0, 0, 2, 6])"
      ]
     },
     "execution_count": 40,
     "metadata": {},
     "output_type": "execute_result"
    }
   ],
   "source": [
    "# Evaluate f(x) for several values of x in a single function call.\n",
    "f([1, 2, 3, 4])"
   ]
  },
  {
   "cell_type": "code",
   "execution_count": 41,
   "metadata": {},
   "outputs": [
    {
     "ename": "IndexError",
     "evalue": "tuple index out of range",
     "output_type": "error",
     "traceback": [
      "\u001b[0;31m---------------------------------------------------------------------------\u001b[0m",
      "\u001b[0;31mIndexError\u001b[0m                                Traceback (most recent call last)",
      "\u001b[0;32m<ipython-input-41-2b6f6c4f0eef>\u001b[0m in \u001b[0;36m<module>\u001b[0;34m()\u001b[0m\n\u001b[1;32m      5\u001b[0m \u001b[0;31m# Solve the normal equations using SciPy's least squares routine.\u001b[0m\u001b[0;34m\u001b[0m\u001b[0;34m\u001b[0m\u001b[0m\n\u001b[1;32m      6\u001b[0m \u001b[0;31m# The least squares solution is the first of four return values.\u001b[0m\u001b[0;34m\u001b[0m\u001b[0;34m\u001b[0m\u001b[0m\n\u001b[0;32m----> 7\u001b[0;31m \u001b[0mx\u001b[0m \u001b[0;34m=\u001b[0m \u001b[0mla\u001b[0m\u001b[0;34m.\u001b[0m\u001b[0mlstsq\u001b[0m\u001b[0;34m(\u001b[0m\u001b[0mA\u001b[0m\u001b[0;34m,\u001b[0m \u001b[0mb\u001b[0m\u001b[0;34m)\u001b[0m\u001b[0;34m[\u001b[0m\u001b[0;36m0\u001b[0m\u001b[0;34m]\u001b[0m\u001b[0;34m\u001b[0m\u001b[0m\n\u001b[0m\u001b[1;32m      8\u001b[0m \u001b[0;34m\u001b[0m\u001b[0m\n\u001b[1;32m      9\u001b[0m \u001b[0;31m# Generate some random data close to the line y = x^2 - 3x + 2.\u001b[0m\u001b[0;34m\u001b[0m\u001b[0;34m\u001b[0m\u001b[0m\n",
      "\u001b[0;32m~/anaconda3/lib/python3.6/site-packages/scipy/linalg/basic.py\u001b[0m in \u001b[0;36mlstsq\u001b[0;34m(a, b, cond, overwrite_a, overwrite_b, check_finite, lapack_driver)\u001b[0m\n\u001b[1;32m   1162\u001b[0m     \u001b[0;32melse\u001b[0m\u001b[0;34m:\u001b[0m\u001b[0;34m\u001b[0m\u001b[0m\n\u001b[1;32m   1163\u001b[0m         \u001b[0mnrhs\u001b[0m \u001b[0;34m=\u001b[0m \u001b[0;36m1\u001b[0m\u001b[0;34m\u001b[0m\u001b[0m\n\u001b[0;32m-> 1164\u001b[0;31m     \u001b[0;32mif\u001b[0m \u001b[0mm\u001b[0m \u001b[0;34m!=\u001b[0m \u001b[0mb1\u001b[0m\u001b[0;34m.\u001b[0m\u001b[0mshape\u001b[0m\u001b[0;34m[\u001b[0m\u001b[0;36m0\u001b[0m\u001b[0;34m]\u001b[0m\u001b[0;34m:\u001b[0m\u001b[0;34m\u001b[0m\u001b[0m\n\u001b[0m\u001b[1;32m   1165\u001b[0m         \u001b[0;32mraise\u001b[0m \u001b[0mValueError\u001b[0m\u001b[0;34m(\u001b[0m\u001b[0;34m'incompatible dimensions'\u001b[0m\u001b[0;34m)\u001b[0m\u001b[0;34m\u001b[0m\u001b[0m\n\u001b[1;32m   1166\u001b[0m     \u001b[0;32mif\u001b[0m \u001b[0mm\u001b[0m \u001b[0;34m==\u001b[0m \u001b[0;36m0\u001b[0m \u001b[0;32mor\u001b[0m \u001b[0mn\u001b[0m \u001b[0;34m==\u001b[0m \u001b[0;36m0\u001b[0m\u001b[0;34m:\u001b[0m  \u001b[0;31m# Zero-sized problem, confuses LAPACK\u001b[0m\u001b[0;34m\u001b[0m\u001b[0m\n",
      "\u001b[0;31mIndexError\u001b[0m: tuple index out of range"
     ]
    }
   ],
   "source": [
    "from scipy import linalg as la\n",
    "\n",
    "# Define A and b appropriately.\n",
    "\n",
    "# Solve the normal equations using SciPy's least squares routine.\n",
    "# The least squares solution is the first of four return values.\n",
    "x = la.lstsq(A, b)[0]\n",
    "\n",
    "# Generate some random data close to the line y = x^2 - 3x + 2.\n",
    "x = np.linspace(0, 10, 20)\n",
    "y = x**2 - 3*x + 2 + np.random.randn(20)\n",
    "\n",
    "# Use np.polyfit() to calculate the best fit 2nd degree polynomial.\n",
    "coeffs = np.polyfit(x, y, 2)\n",
    "\n",
    "domain = np.linspace(0, 10, 200)\n",
    "plt.plot(x, y, 'k*')"
   ]
  },
  {
   "cell_type": "code",
   "execution_count": null,
   "metadata": {},
   "outputs": [],
   "source": [
    "plt.plot(domain, np.polyval(coeffs, domain))\n",
    "plt.show()\n",
    "\n",
    "# Load some data and construct the matrix A and the vector b.\n",
    "xk, yk = np.load(\"circle.npy\").T\n",
    "A = np.column_stack((2*xk, 2*yk, np.ones_like(xk)))\n",
    "b = xk**2 + yk**2\n",
    "\n",
    "# Calculate the least squares solution and solve for the radius.\n",
    "c1, c2, c3 = la.lstsq(A, b)[0]\n",
    "r = np.sqrt(c1**2 + c2**2 + c3)\n",
    "\n",
    "# Plot the circle using polar coordinates.\n",
    "theta = np.linspace(0, 2*np.pi, 200)\n",
    "x = r*np.cos(theta) + c1\n",
    "y = r*np.sin(theta) + c2\n",
    "plt.plot(x, y)                  # Plot the circle.\n",
    "plt.plot(xk, yk, 'k*')          # Plot the data points.\n",
    "plt.axis(\"equal\")\n",
    "\n",
    "def plot_ellipse(a, b, c, d, e):\n",
    "    \"\"\"Plot an ellipse of the form ax^2 + bx + cxy + dy + ey^2 = 1.\"\"\"\n",
    "    theta = np.linspace(0, 2*np.pi, 200)\n",
    "    cos_t, sin_t = np.cos(theta), np.sin(theta)\n",
    "    A = a*(cos_t**2) + c*cos_t*sin_t + e*(sin_t**2)\n",
    "    B = b*cos_t + d*sin_t\n",
    "    r = (-B + np.sqrt(B**2 + 4*A)) / (2*A)\n",
    "    plt.plot(r*cos_t, r*sin_t, lw=2)\n",
    "    plt.gca().set_aspect(\"equal\", \"datalim\")\n",
    "\n",
    "# Construct a random matrix with positive entries.\n",
    "A = np.random.random((10,10))\n",
    "\n",
    "# Compute the eigenvalues and eigenvectors of A via SciPy.\n",
    "eigs, vecs = la.eig(A)\n",
    "\n",
    "# Get the dominant eigenvalue and eigenvector of A.\n",
    "# The eigenvector of the kth eigenvalue is the kth column of 'vecs'.\n",
    "loc = np.argmax(eigs)\n",
    "lamb, x = eigs[loc], vecs[:,loc]\n",
    "\n",
    "# Verify that Ax = lambda x.\n",
    "np.allclose(A @ x, lamb * x)\n",
    "\n",
    "C = np.vstack(w) * A\n",
    "z = w * b\n",
    "x = la.lstsq(C, z)[0]"
   ]
  }
 ],
 "metadata": {
  "kernelspec": {
   "display_name": "Python 3",
   "language": "python",
   "name": "python3"
  },
  "language_info": {
   "codemirror_mode": {
    "name": "ipython",
    "version": 3
   },
   "file_extension": ".py",
   "mimetype": "text/x-python",
   "name": "python",
   "nbconvert_exporter": "python",
   "pygments_lexer": "ipython3",
   "version": "3.6.4"
  }
 },
 "nbformat": 4,
 "nbformat_minor": 2
}
