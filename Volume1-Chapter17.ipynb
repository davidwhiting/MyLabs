{
 "cells": [
  {
   "cell_type": "markdown",
   "metadata": {},
   "source": [
    "# _Foundations of Applied Mathematics_ Labs: Volume 1"
   ]
  },
  {
   "cell_type": "code",
   "execution_count": 1,
   "metadata": {},
   "outputs": [],
   "source": [
    "%matplotlib inline"
   ]
  },
  {
   "cell_type": "markdown",
   "metadata": {},
   "source": [
    "# 17. The Arnoldi Iteration"
   ]
  },
  {
   "cell_type": "code",
   "execution_count": null,
   "metadata": {},
   "outputs": [],
   "source": [
    "b = A.conj() @ B"
   ]
  },
  {
   "cell_type": "code",
   "execution_count": null,
   "metadata": {},
   "outputs": [],
   "source": [
    "from scipy.sparse import linalg as spla\n",
    "B = np.random.random((100,100))\n",
    "spla.eigs(B, k=5, return_eigenvectors=false)\n",
    "\n",
    "# Evaluate the eigenvalues\n",
    "eigvalues = la.eig(A)[0]\n",
    "# Sort them from greatest to least (use np.abs to account for complex parts)\n",
    "eigvalues = eigvalues[np.sort(np.<<abs>>(eigvalues))[::-1]]\n",
    "\n",
    "errors[errors > 10] = 10.\n",
    "\n",
    "A = np.random.rand(300, 300)\n",
    "plot_ritz(a, 10, 175)\n",
    "\n",
    "# A matrix with uniformly distributed eigenvalues\n",
    "d = np.diag(np.random.rand(300))\n",
    "B = A @ d @ la.inv(A)\n",
    "plot_ritz(B, 10, 175)\n",
    "\n",
    "def companion_multiply(c, u):\n",
    "    v = np.empty_like(u)\n",
    "    v[0] = - c[0] * u[-1]\n",
    "    v[1:] = u[:-1] - c[1:] * u[-1]\n",
    "    return v\n",
    "\n",
    "p = np.poly1d([1] + list(c[::-1]))\n",
    "roots = p.roots\n",
    "# Now sort by absolute value from largest to smallest\n",
    "roots = roots[np.<<abs>>(roots).argsort()][::-1]\n",
    "\n",
    "def lanczos(b, L, k, tol=1E-8):\n",
    "    '''Perform `k' steps of the Lanczos iteration on the symmetric linear\n",
    "    operator defined by `L', starting with the vector 'b'.\n",
    "\n",
    "    INPUTS:\n",
    "    b    - A NumPy array. The starting vector for the Lanczos iteration.\n",
    "    L - A function handle. Should describe a symmetric linear operator.\n",
    "    k    - Number of times to perform the Lanczos iteration.\n",
    "    tol  - Stop iterating if the next vector in the Lanczos iteration has\n",
    "          norm less than `tol'. Defaults to 1E-8.\n",
    "\n",
    "    RETURN:\n",
    "    Return (alpha, beta) where alpha and beta are the main diagonal and\n",
    "    first subdiagonal of the tridiagonal matrix computed by the Lanczos\n",
    "    iteration.\n",
    "    '''\n",
    "\n",
    "def tri_mul(a, b, u):\n",
    "   ''' Return Au where A is the tridiagonal symmetric matrix with main\n",
    "   diagonal a and subdiagonal b.\n",
    "   '''\n",
    "    v = a * u\n",
    "    v[:-1] += b * u[1:]\n",
    "    v[1:] += b * u[:-1]\n",
    "    return v"
   ]
  }
 ],
 "metadata": {
  "kernelspec": {
   "display_name": "Python 3",
   "language": "python",
   "name": "python3"
  },
  "language_info": {
   "codemirror_mode": {
    "name": "ipython",
    "version": 3
   },
   "file_extension": ".py",
   "mimetype": "text/x-python",
   "name": "python",
   "nbconvert_exporter": "python",
   "pygments_lexer": "ipython3",
   "version": "3.6.4"
  }
 },
 "nbformat": 4,
 "nbformat_minor": 2
}
