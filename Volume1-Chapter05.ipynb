{
 "cells": [
  {
   "cell_type": "markdown",
   "metadata": {},
   "source": [
    "# _Foundations of Applied Mathematics_ Labs: Volume 1"
   ]
  },
  {
   "cell_type": "code",
   "execution_count": 1,
   "metadata": {},
   "outputs": [],
   "source": [
    "%matplotlib inline"
   ]
  },
  {
   "cell_type": "code",
   "execution_count": null,
   "metadata": {},
   "outputs": [],
   "source": [
    "import numpy as np\n",
    "from matplotlib import pyplot as plt\n",
    "from math import pi, cos, sin"
   ]
  },
  {
   "cell_type": "code",
   "execution_count": null,
   "metadata": {},
   "outputs": [],
   "source": [
    "# May or may not be needed for Chapter 5\n",
    "import scipy as sp\n",
    "from scipy import stats         # Import stats explicitly. Access it\n",
    "from scipy import linalg as la\n",
    "from scipy import sparse\n",
    "\n",
    "from scipy.sparse import linalg as spla\n",
    "\n",
    "import numpy as np\n",
    "from scipy.stats import linregress"
   ]
  },
  {
   "cell_type": "markdown",
   "metadata": {},
   "source": [
    "# 5. Image Segmentation"
   ]
  },
  {
   "cell_type": "code",
   "execution_count": null,
   "metadata": {},
   "outputs": [],
   "source": [
    "A = np.array([[0,1,0,0,1,0],[1,0,1,0,1,0],\n",
    "                  [0,1,0,1,0,0],[0,0,1,0,1,1],\n",
    "                  [1,1,0,1,0,0],[0,0,0,1,0,0]])\n",
    "\n",
    "np.linalg.matrix_power(A,2)"
   ]
  },
  {
   "cell_type": "code",
   "execution_count": null,
   "metadata": {},
   "outputs": [],
   "source": [
    "np.linalg.matrix_power(A, 6)"
   ]
  },
  {
   "cell_type": "code",
   "execution_count": null,
   "metadata": {},
   "outputs": [],
   "source": [
    "def sparse_generator(n, c):\n",
    "    \"\"\"Return a symmetric nxn matrix with sparsity determined by c.\"\"\"\n",
    "    A = np.random.rand(n**2).reshape((n, n))\n",
    "    A = ( A > c**(.5) )\n",
    "    return A.T @ A"
   ]
  },
  {
   "cell_type": "code",
   "execution_count": null,
   "metadata": {},
   "outputs": [],
   "source": [
    "from scipy.misc import imread\n",
    "from matplotlib import pyplot as plt\n",
    "\n",
    "image = imread(\"dream.png\")     # Read a (very) small image.\n",
    "print(image.shape)              # Since the array is 3-dimensional, this is a color image.\n",
    "\n",
    "# The image is read in as integers from 0 to 255.\n",
    "print(image.<<min>>(), image.<<max>>(), image.dtype)\n",
    "\n",
    "# Scale the image to floats between 0 and 1 for Matplotlib.\n",
    "scaled = image / 255.\n",
    "print(scaled.<<min>>(), scaled.<<max>>(), scaled.dtype)\n",
    "\n",
    "# Display the scaled image.\n",
    "plt.imshow(scaled)\n",
    "plt.axis(\"off\")\n",
    "plt.show()\n",
    "\n",
    "# Average the RGB values of a colored image to obtain a grayscale image.\n",
    "brightness = scaled.mean(axis=2)        # Average over the last axis.\n",
    "print(brightness.shape)                 # Note that the array is now 2-D.\n",
    "\n",
    "# Display the image in gray.\n",
    "plt.imshow(brightness, cmap=\"gray\")\n",
    "plt.axis(\"off\")\n",
    "plt.show()\n",
    "\n",
    "import numpy as np\n",
    "A = np.random.randint(0, 10, (3,4))\n",
    "print(A)\n",
    "\n",
    "# Unravel the 2-D array (by rows) into a 1-D array.\n",
    "np.ravel(A)\n",
    "\n",
    "# Unravel a grayscale image into a 1-D array and check its size.\n",
    "M,N = brightness.shape\n",
    "flat_brightness = np.ravel(brightness)\n",
    "M*N == flat_brightness.size\n",
    "print(flat_brightness.shape)\n",
    "\n",
    "def get_neighbors(index, radius, height, width):\n",
    "    \"\"\"Calculate the flattened indices of the pixels that are within the given\n",
    "    distance of a central pixel, and their distances from the central pixel.\n",
    "\n",
    "    Parameters:\n",
    "        index (int): The index of a central pixel in a flattened image array\n",
    "            with original shape (radius, height).\n",
    "        radius (float): Radius of the neighborhood around the central pixel.\n",
    "        height (int): The height of the original image in pixels.\n",
    "        width (int): The width of the original image in pixels.\n",
    "\n",
    "    Returns:\n",
    "        (1-D ndarray): the indices of the pixels that are within the specified\n",
    "            radius of the central pixel, with respect to the flattened image.\n",
    "        (1-D ndarray): the euclidean distances from the neighborhood pixels to\n",
    "            the central pixel.\n",
    "    \"\"\"\n",
    "    # Calculate the original 2-D coordinates of the central pixel.\n",
    "    row, col = index // width, index % width\n",
    "\n",
    "    # Get a grid of possible candidates that are close to the central pixel.\n",
    "    r = int(radius)\n",
    "    x = np.arange(max(col - r, 0), min(col + r + 1, width))\n",
    "    y = np.arange(max(row - r, 0), min(row + r + 1, height))\n",
    "    X, Y = np.meshgrid(x, y)\n",
    "\n",
    "    # Determine which candidates are within the given radius of the pixel.\n",
    "    R = np.sqrt(((X - col)**2 + (Y - row)**2))\n",
    "    mask = R < radius\n",
    "    return (X[mask] + Y[mask]*width).astype(np.<<int>>), R[mask]\n",
    "\n",
    "# Compute the neighbors and corresponding distances from the figure.\n",
    "neighbors_1, distances_1 = get_neighbors(5, 1.2, 4, 4)\n",
    "print(neighbors_1, distances_1, sep='\\n')\n",
    "\n",
    "# Increasing the radius from 1.2 to 1.5 results in more neighbors.\n",
    "neighbors_2, distances_2 = get_neighbors(5, 1.5, 4, 4)\n",
    "print(neighbors_2, distances_2, sep='\\n')\n",
    "\n",
    "x = np.arange(-5,5).reshape((5,2)).T\n",
    "print(x)\n",
    "\n",
    "# Construct a boolean mask of x describing which entries of x are positive.\n",
    "mask = x > 0\n",
    "print(mask)\n",
    "\n",
    "# Use the mask to zero out all of the nonpositive entries of x.\n",
    "x * mask\n",
    "\n",
    "mask = np.arange(-5,5).reshape((5,2)).T > 0\n",
    "print(mask)\n",
    "\n",
    "# The mask can be negated with the tilde operator ~.\n",
    "print(~mask)\n",
    "\n",
    "# Stack a mask into a 3-D array with np.dstack().\n",
    "print(mask.shape, np.dstack((mask, mask, mask)).shape)"
   ]
  }
 ],
 "metadata": {
  "kernelspec": {
   "display_name": "Python 3",
   "language": "python",
   "name": "python3"
  },
  "language_info": {
   "codemirror_mode": {
    "name": "ipython",
    "version": 3
   },
   "file_extension": ".py",
   "mimetype": "text/x-python",
   "name": "python",
   "nbconvert_exporter": "python",
   "pygments_lexer": "ipython3",
   "version": "3.6.4"
  }
 },
 "nbformat": 4,
 "nbformat_minor": 2
}
