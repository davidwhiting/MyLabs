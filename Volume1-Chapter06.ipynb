{
 "cells": [
  {
   "cell_type": "markdown",
   "metadata": {},
   "source": [
    "# _Foundations of Applied Mathematics_ Labs: Volume 1"
   ]
  },
  {
   "cell_type": "code",
   "execution_count": 1,
   "metadata": {},
   "outputs": [],
   "source": [
    "%matplotlib inline"
   ]
  },
  {
   "cell_type": "code",
   "execution_count": null,
   "metadata": {},
   "outputs": [],
   "source": [
    "import numpy as np\n",
    "from scipy import linalg as la"
   ]
  },
  {
   "cell_type": "markdown",
   "metadata": {},
   "source": [
    "# 6. The SVD and Image Compression"
   ]
  },
  {
   "cell_type": "code",
   "execution_count": null,
   "metadata": {},
   "outputs": [],
   "source": [
    "# Generate a random matrix and get its compact SVD via SciPy.\n",
    "A = np.random.random((10,5))\n",
    "U,s,Vh = la.svd(A, full_matrices=False)\n",
    "print(U.shape, s.shape, Vh.shape)\n",
    "\n",
    "# Verify that U is orthonormal, U Sigma Vh = A, and the rank is correct.\n",
    "np.allclose(U.T @ U, np.identity(5))\n",
    "np.allclose(U @ np.diag(s) @ Vh, A)\n",
    "np.linalg.matrix_rank(A) == len(s)\n",
    "\n",
    "A = np.random.random((20, 20))\n",
    "A.size\n",
    "\n",
    "from matplotlib import pyplot as plt\n",
    "\n",
    "# Send the RGB values to the interval (0,1).\n",
    "image_gray = plt.imread(\"hubble_gray.jpg\") / 255.\n",
    "image_gray.shape            # Grayscale images are 2-d arrays.\n",
    "\n",
    "image_color = plt.imread(\"hubble.jpg\") / 255.\n",
    "image_color.shape           # Color images are 3-d arrays.\n",
    "\n",
    "# The final axis has 3 layers for red, green, and blue values.\n",
    "red_layer = image_color[:,:,0]\n",
    "red_layer.shape\n",
    "\n",
    "# Display a gray image.\n",
    "plt.imshow(red_layer, cmap=\"gray\")\n",
    "plt.axis(\"off\")             # Turn off axis ticks and labels.\n",
    "plt.show()\n",
    "\n",
    "# Display a color image.\n",
    "plt.imshow(image_color)     # cmap=None by default.\n",
    "plt.axis(\"off\")\n",
    "plt.show()\n",
    "\n",
    "from matplotlib import pyplot as plt\n",
    "from matplotlib.animation import FuncAnimation\n",
    "\n",
    "def animate_images(images):\n",
    "    \"\"\"Animate a sequence of images. The input is a list where each\n",
    "    entry is an array that will be one frame of the animation.\n",
    "    \"\"\"\n",
    "    fig = plt.figure()\n",
    "    plt.axis(\"off\")\n",
    "    im = plt.imshow(images[0], animated=True)\n",
    "\n",
    "    def update(index):\n",
    "        plt.title(\"Rank {} Approximation\".format(index))\n",
    "        im.set_array(images[index])\n",
    "        return im,              # Note the comma!\n",
    "\n",
    "    a = FuncAnimation(fig, update, frames=len(images), blit=True)\n",
    "    plt.show()"
   ]
  }
 ],
 "metadata": {
  "kernelspec": {
   "display_name": "Python 3",
   "language": "python",
   "name": "python3"
  },
  "language_info": {
   "codemirror_mode": {
    "name": "ipython",
    "version": 3
   },
   "file_extension": ".py",
   "mimetype": "text/x-python",
   "name": "python",
   "nbconvert_exporter": "python",
   "pygments_lexer": "ipython3",
   "version": "3.6.4"
  }
 },
 "nbformat": 4,
 "nbformat_minor": 2
}
