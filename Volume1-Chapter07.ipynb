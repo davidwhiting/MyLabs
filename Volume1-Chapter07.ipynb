{
 "cells": [
  {
   "cell_type": "markdown",
   "metadata": {},
   "source": [
    "# _Foundations of Applied Mathematics_ Labs: Volume 1"
   ]
  },
  {
   "cell_type": "code",
   "execution_count": 1,
   "metadata": {},
   "outputs": [],
   "source": [
    "%matplotlib inline"
   ]
  },
  {
   "cell_type": "code",
   "execution_count": null,
   "metadata": {},
   "outputs": [],
   "source": [
    "import numpy as np\n",
    "from os import walk\n",
    "from scipy.misc import imread"
   ]
  },
  {
   "cell_type": "markdown",
   "metadata": {},
   "source": [
    "# 7. Facial Recognition"
   ]
  },
  {
   "cell_type": "code",
   "execution_count": null,
   "metadata": {},
   "outputs": [],
   "source": [
    "def get_faces(path=\"./faces94\"):\n",
    "    # Traverse the directory and get one image per subdirectory.\n",
    "    faces = []\n",
    "    for (dirpath, dirnames, filenames) in walk(path):\n",
    "        for fname in filenames:\n",
    "            if fname[-3:]==\"jpg\":       # Only get jpg images.\n",
    "                # Load the image, convert it to grayscale,\n",
    "                # and flatten it into a vector.\n",
    "                faces.append(np.ravel(imread(dirpath+\"/\"+fname, flatten=True)))\n",
    "                break\n",
    "    # Put all the face vectors column-wise into a matrix.\n",
    "    return np.transpose(faces)\n",
    "\n",
    "def sample_faces(num_faces, path=\"./faces94\"):\n",
    "    # Get the list of possible images.\n",
    "    files = []\n",
    "    for (dirpath, dirnames, filenames) in walk(path):\n",
    "        for fname in filenames:\n",
    "            if fname[-3:]==\"jpg\":       # Only get jpg images.\n",
    "                files.append(dirpath+\"/\"+fname)\n",
    "\n",
    "    # Get a subset of the image names and yield the images one at a time.\n",
    "    test_files = np.random.choice(files, num_faces, replace=False)\n",
    "    for fname in test_files:\n",
    "        yield np.ravel(imread(fname, flatten=True))\n",
    "\n",
    "for test_image in sample_faces(5):\n",
    "    # 'test_image' is a now flattened face vector."
   ]
  },
  {
   "cell_type": "markdown",
   "metadata": {},
   "source": [
    "**Problem 1.** Write a function that accepts an image as a flattened $mn$-vector, along with its original dimensions $m$ and $n$.\n",
    "Use `np.reshape()` to convert the flattened image into its original $m\\times n$ shape and display the result with `plt.imshow()`. (Hint: use `cmap='gray'` in `plt.imshow()` to display images in grayscale.)\n",
    "\n",
    "Unzip the `faces94.zip` archive and use `get_faces()` to construct $F$.\n",
    "Each `faces94` image is $200 \\times 180$, and there are 153 people in the dataset, so $F$ should be $36000 \\times 153$. Use your function to display one of the images stored in $F$."
   ]
  },
  {
   "cell_type": "markdown",
   "metadata": {},
   "source": [
    "**Solution 1.**"
   ]
  },
  {
   "cell_type": "markdown",
   "metadata": {},
   "source": [
    "**Problem 2.** Write a class called `FacialRec` whose constructor accepts a path to a directory of images. In the constructor, use `get_faces()` to construct $F$, then compute the mean face $\\boldsymbol\\mu$ and the shifted faces $\\bar{F}$. Store each array as an attribute. (Hint: Both $\\boldsymbol\\mu$ and $\\bar{F}$ can be computed in a single line of code by using NumPy functions and/or array broadcasting.)\n",
    "\n",
    "Use your function from Problem 1 to visualize the mean face, and compare it to Figure 7.1a.\n",
    "Also display an original face and its corresponding mean-shifted face.\n",
    "Compare your results with Figures 7.1b and 7.1c."
   ]
  },
  {
   "cell_type": "markdown",
   "metadata": {},
   "source": [
    "**Solution 2.**"
   ]
  },
  {
   "cell_type": "markdown",
   "metadata": {},
   "source": [
    "**Problem 3.** In the constructor of `FacialRec`, calculate the compact SVD of $\\bar{F}$ and save the matrix $U$ as an attribute.\n",
    "Compare the computed eigenfaces (the columns of $U$) to Figure 7.2.\n",
    "\n",
    "Also write a method that accepts a vector of length $mn$ or an $mn\\times l$ matrix, as well as an integer $s$.\n",
    "Construct $U_s$ by taking the first $s$ columns of $U$, then use (7.1)\n",
    "or (7.2) to calculate the projection of the input vector or matrix\n",
    "onto the span of the first $s$ eigenfaces. (Hint: this method should be implemented with a single line of code.)\n"
   ]
  },
  {
   "cell_type": "markdown",
   "metadata": {},
   "source": [
    "**Solution 3.**"
   ]
  },
  {
   "cell_type": "markdown",
   "metadata": {},
   "source": [
    "**Problem 4.**"
   ]
  },
  {
   "cell_type": "markdown",
   "metadata": {},
   "source": [
    "**Solution 4.**"
   ]
  },
  {
   "cell_type": "markdown",
   "metadata": {},
   "source": [
    "**Problem 5.**"
   ]
  },
  {
   "cell_type": "markdown",
   "metadata": {},
   "source": [
    "**Solution 5.**"
   ]
  },
  {
   "cell_type": "markdown",
   "metadata": {},
   "source": [
    "**Problem 6.**"
   ]
  },
  {
   "cell_type": "markdown",
   "metadata": {},
   "source": [
    "**Solution 6.**"
   ]
  }
 ],
 "metadata": {
  "kernelspec": {
   "display_name": "Python 3",
   "language": "python",
   "name": "python3"
  },
  "language_info": {
   "codemirror_mode": {
    "name": "ipython",
    "version": 3
   },
   "file_extension": ".py",
   "mimetype": "text/x-python",
   "name": "python",
   "nbconvert_exporter": "python",
   "pygments_lexer": "ipython3",
   "version": "3.6.4"
  }
 },
 "nbformat": 4,
 "nbformat_minor": 2
}
